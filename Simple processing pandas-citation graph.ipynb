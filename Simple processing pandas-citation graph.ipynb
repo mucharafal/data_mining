{
 "cells": [
  {
   "cell_type": "code",
   "execution_count": 1,
   "metadata": {
    "collapsed": true
   },
   "outputs": [],
   "source": [
    "from os import listdir\n",
    "from os.path import isfile, join\n",
    "import os\n",
    "import re\n",
    "import pandas\n",
    "import matplotlib.pyplot as plt\n",
    "import numpy as np\n",
    "import multiprocessing\n",
    "onlyfiles = [f for f in listdir(os.getcwd()) if isfile(join(os.getcwd(), f))]"
   ]
  },
  {
   "cell_type": "code",
   "execution_count": 2,
   "metadata": {
    "collapsed": true
   },
   "outputs": [],
   "source": [
    "def reader_fos(fileName):\n",
    "    df = pandas.read_json(fileName, lines=True)\n",
    "    fos_authors_and_year = df[[\"id\", \"title\", \"year\", \"authors\", \"fos\", \"references\"]]\n",
    "    return fos_authors_and_year"
   ]
  },
  {
   "cell_type": "code",
   "execution_count": 3,
   "metadata": {
    "collapsed": true
   },
   "outputs": [],
   "source": [
    "dblp_part_regex = re.compile(\"author_indexed_fos*\")\n",
    "part_files_filter_obj = filter(lambda file_name: dblp_part_regex.match(file_name), onlyfiles)\n",
    "part_files = list(part_files_filter_obj)"
   ]
  },
  {
   "cell_type": "code",
   "execution_count": 4,
   "metadata": {
    "collapsed": true
   },
   "outputs": [],
   "source": [
    "list_of_dataframes = list(map(reader_fos, part_files))\n",
    "df = pandas.concat(list_of_dataframes, ignore_index=True)"
   ]
  },
  {
   "cell_type": "code",
   "execution_count": 65,
   "metadata": {},
   "outputs": [
    {
     "data": {
      "text/html": [
       "<div>\n",
       "<style scoped>\n",
       "    .dataframe tbody tr th:only-of-type {\n",
       "        vertical-align: middle;\n",
       "    }\n",
       "\n",
       "    .dataframe tbody tr th {\n",
       "        vertical-align: top;\n",
       "    }\n",
       "\n",
       "    .dataframe thead th {\n",
       "        text-align: right;\n",
       "    }\n",
       "</style>\n",
       "<table border=\"1\" class=\"dataframe\">\n",
       "  <thead>\n",
       "    <tr style=\"text-align: right;\">\n",
       "      <th></th>\n",
       "      <th>id</th>\n",
       "      <th>title</th>\n",
       "      <th>year</th>\n",
       "      <th>authors</th>\n",
       "      <th>fos</th>\n",
       "      <th>references</th>\n",
       "    </tr>\n",
       "  </thead>\n",
       "  <tbody>\n",
       "    <tr>\n",
       "      <th>5</th>\n",
       "      <td>1965664720</td>\n",
       "      <td>A low power wireless sensor node with vibratio...</td>\n",
       "      <td>2014.0</td>\n",
       "      <td>[{'index': 2247601}, {'index': 1264008}, {'ind...</td>\n",
       "      <td>[{'name': '104', 'w': 0.0}, {'name': '649', 'w...</td>\n",
       "      <td>[1510600213, 2170239483]</td>\n",
       "    </tr>\n",
       "    <tr>\n",
       "      <th>6</th>\n",
       "      <td>1965664774</td>\n",
       "      <td>Shortest Paths Based Web Service Selection in ...</td>\n",
       "      <td>2014.0</td>\n",
       "      <td>[{'index': 2247603}, {'index': 2247604}]</td>\n",
       "      <td>[{'name': '2716', 'w': 0.5306294}, {'name': '2...</td>\n",
       "      <td>[1479916289, 1560267311, 2002838096, 200757299...</td>\n",
       "    </tr>\n",
       "    <tr>\n",
       "      <th>12</th>\n",
       "      <td>1965665477</td>\n",
       "      <td>Contracts for First-Class Classes</td>\n",
       "      <td>2013.0</td>\n",
       "      <td>[{'index': 465043}, {'index': 457705}, {'index...</td>\n",
       "      <td>[{'name': '10', 'w': 0.4498527}, {'name': '227...</td>\n",
       "      <td>[204817905, 1518650316, 1526601993, 1601712140...</td>\n",
       "    </tr>\n",
       "    <tr>\n",
       "      <th>16</th>\n",
       "      <td>1965665804</td>\n",
       "      <td>An interpretation of the Cover and Leung capac...</td>\n",
       "      <td>2012.0</td>\n",
       "      <td>[{'index': 283325}, {'index': 580777}]</td>\n",
       "      <td>[{'name': '0', 'w': 0.43447753800000005}, {'na...</td>\n",
       "      <td>[1489262227, 2011914761, 2014996477, 201797019...</td>\n",
       "    </tr>\n",
       "    <tr>\n",
       "      <th>20</th>\n",
       "      <td>1965666279</td>\n",
       "      <td>Implementing Linguistic Landscape investigatio...</td>\n",
       "      <td>2014.0</td>\n",
       "      <td>[{'index': 2247613}]</td>\n",
       "      <td>[{'name': '6531', 'w': 0.532050133}, {'name': ...</td>\n",
       "      <td>[1972366573]</td>\n",
       "    </tr>\n",
       "    <tr>\n",
       "      <th>...</th>\n",
       "      <td>...</td>\n",
       "      <td>...</td>\n",
       "      <td>...</td>\n",
       "      <td>...</td>\n",
       "      <td>...</td>\n",
       "      <td>...</td>\n",
       "    </tr>\n",
       "    <tr>\n",
       "      <th>4074424</th>\n",
       "      <td>2026775511</td>\n",
       "      <td>Bridging boolean and quantitative synthesis us...</td>\n",
       "      <td>2014.0</td>\n",
       "      <td>[{'index': 107666}, {'index': 875472}, {'index...</td>\n",
       "      <td>[{'name': '1797', 'w': 0.5759903}, {'name': '1...</td>\n",
       "      <td>[88990729, 1490985464, 1510918931, 1527924265,...</td>\n",
       "    </tr>\n",
       "    <tr>\n",
       "      <th>4074425</th>\n",
       "      <td>2026775633</td>\n",
       "      <td>Arrhythmia detection from heartbeat using k-ne...</td>\n",
       "      <td>2013.0</td>\n",
       "      <td>[{'index': 341106}, {'index': 875473}, {'index...</td>\n",
       "      <td>[{'name': '132', 'w': 0.393144459}, {'name': '...</td>\n",
       "      <td>[1986307910, 1988183757, 1988566213, 199689436...</td>\n",
       "    </tr>\n",
       "    <tr>\n",
       "      <th>4074429</th>\n",
       "      <td>2026775901</td>\n",
       "      <td>Organizational strategy development in distrib...</td>\n",
       "      <td>2012.0</td>\n",
       "      <td>[{'index': 376798}, {'index': 875477}, {'index...</td>\n",
       "      <td>[{'name': '2112', 'w': 0.4589141}, {'name': '2...</td>\n",
       "      <td>[1967519272, 1972794857, 1997772982, 200124498...</td>\n",
       "    </tr>\n",
       "    <tr>\n",
       "      <th>4074431</th>\n",
       "      <td>2026776168</td>\n",
       "      <td>Consideration effect of uncertainty in power s...</td>\n",
       "      <td>2011.0</td>\n",
       "      <td>[{'index': 875478}, {'index': 875479}]</td>\n",
       "      <td>[{'name': '1429', 'w': 0.492216617}, {'name': ...</td>\n",
       "      <td>[1969487128, 2000969056, 2008743043, 204852993...</td>\n",
       "    </tr>\n",
       "    <tr>\n",
       "      <th>4074434</th>\n",
       "      <td>2026776425</td>\n",
       "      <td>A scenario-based approach for requirements man...</td>\n",
       "      <td>2012.0</td>\n",
       "      <td>[{'index': 875487}, {'index': 875488}, {'index...</td>\n",
       "      <td>[{'name': '2690', 'w': 0.6620984999999999}, {'...</td>\n",
       "      <td>[1998981782, 2000149314, 2007472459, 203489187...</td>\n",
       "    </tr>\n",
       "  </tbody>\n",
       "</table>\n",
       "<p>1777240 rows × 6 columns</p>\n",
       "</div>"
      ],
      "text/plain": [
       "                 id                                              title  \\\n",
       "5        1965664720  A low power wireless sensor node with vibratio...   \n",
       "6        1965664774  Shortest Paths Based Web Service Selection in ...   \n",
       "12       1965665477                  Contracts for First-Class Classes   \n",
       "16       1965665804  An interpretation of the Cover and Leung capac...   \n",
       "20       1965666279  Implementing Linguistic Landscape investigatio...   \n",
       "...             ...                                                ...   \n",
       "4074424  2026775511  Bridging boolean and quantitative synthesis us...   \n",
       "4074425  2026775633  Arrhythmia detection from heartbeat using k-ne...   \n",
       "4074429  2026775901  Organizational strategy development in distrib...   \n",
       "4074431  2026776168  Consideration effect of uncertainty in power s...   \n",
       "4074434  2026776425  A scenario-based approach for requirements man...   \n",
       "\n",
       "           year                                            authors  \\\n",
       "5        2014.0  [{'index': 2247601}, {'index': 1264008}, {'ind...   \n",
       "6        2014.0           [{'index': 2247603}, {'index': 2247604}]   \n",
       "12       2013.0  [{'index': 465043}, {'index': 457705}, {'index...   \n",
       "16       2012.0             [{'index': 283325}, {'index': 580777}]   \n",
       "20       2014.0                               [{'index': 2247613}]   \n",
       "...         ...                                                ...   \n",
       "4074424  2014.0  [{'index': 107666}, {'index': 875472}, {'index...   \n",
       "4074425  2013.0  [{'index': 341106}, {'index': 875473}, {'index...   \n",
       "4074429  2012.0  [{'index': 376798}, {'index': 875477}, {'index...   \n",
       "4074431  2011.0             [{'index': 875478}, {'index': 875479}]   \n",
       "4074434  2012.0  [{'index': 875487}, {'index': 875488}, {'index...   \n",
       "\n",
       "                                                       fos  \\\n",
       "5        [{'name': '104', 'w': 0.0}, {'name': '649', 'w...   \n",
       "6        [{'name': '2716', 'w': 0.5306294}, {'name': '2...   \n",
       "12       [{'name': '10', 'w': 0.4498527}, {'name': '227...   \n",
       "16       [{'name': '0', 'w': 0.43447753800000005}, {'na...   \n",
       "20       [{'name': '6531', 'w': 0.532050133}, {'name': ...   \n",
       "...                                                    ...   \n",
       "4074424  [{'name': '1797', 'w': 0.5759903}, {'name': '1...   \n",
       "4074425  [{'name': '132', 'w': 0.393144459}, {'name': '...   \n",
       "4074429  [{'name': '2112', 'w': 0.4589141}, {'name': '2...   \n",
       "4074431  [{'name': '1429', 'w': 0.492216617}, {'name': ...   \n",
       "4074434  [{'name': '2690', 'w': 0.6620984999999999}, {'...   \n",
       "\n",
       "                                                references  \n",
       "5                                 [1510600213, 2170239483]  \n",
       "6        [1479916289, 1560267311, 2002838096, 200757299...  \n",
       "12       [204817905, 1518650316, 1526601993, 1601712140...  \n",
       "16       [1489262227, 2011914761, 2014996477, 201797019...  \n",
       "20                                            [1972366573]  \n",
       "...                                                    ...  \n",
       "4074424  [88990729, 1490985464, 1510918931, 1527924265,...  \n",
       "4074425  [1986307910, 1988183757, 1988566213, 199689436...  \n",
       "4074429  [1967519272, 1972794857, 1997772982, 200124498...  \n",
       "4074431  [1969487128, 2000969056, 2008743043, 204852993...  \n",
       "4074434  [1998981782, 2000149314, 2007472459, 203489187...  \n",
       "\n",
       "[1777240 rows x 6 columns]"
      ]
     },
     "execution_count": 65,
     "metadata": {},
     "output_type": "execute_result"
    }
   ],
   "source": [
    "filtered_years = df.loc[df[\"year\"] > 2010]\n",
    "filtered_years = filtered_years.loc[df[\"year\"] < 2018]\n",
    "filtered_years"
   ]
  },
  {
   "cell_type": "code",
   "execution_count": 60,
   "metadata": {},
   "outputs": [
    {
     "data": {
      "text/plain": [
       "1777240"
      ]
     },
     "execution_count": 60,
     "metadata": {},
     "output_type": "execute_result"
    }
   ],
   "source": [
    "len(filtered_years)"
   ]
  },
  {
   "cell_type": "code",
   "execution_count": 10,
   "metadata": {
    "collapsed": true
   },
   "outputs": [],
   "source": [
    "def get_authors_ids(references_list):\n",
    "    authors = []\n",
    "    if not isinstance(references_list, list) and pandas.isna(references_list):\n",
    "        return []\n",
    "    for reference_id in references_list:\n",
    "        reference_authors = list(df.loc[df[\"id\"] == int(reference_id)][\"authors\"])\n",
    "        if len(reference_authors):\n",
    "            authors.extend(list(map(lambda x: x[\"index\"], reference_authors[0])))\n",
    "    return list(set(authors))"
   ]
  },
  {
   "cell_type": "code",
   "execution_count": 37,
   "metadata": {
    "collapsed": true
   },
   "outputs": [],
   "source": [
    "classes = pandas.read_csv(\"classes_fos.csv\", index_col=0)\n",
    "agent_systems_class = classes.loc[classes[\"modularity_class\"] == 20]"
   ]
  },
  {
   "cell_type": "code",
   "execution_count": 38,
   "metadata": {},
   "outputs": [
    {
     "data": {
      "text/plain": [
       "array([1048,  499, 1287, 1756, 1180])"
      ]
     },
     "execution_count": 38,
     "metadata": {},
     "output_type": "execute_result"
    }
   ],
   "source": [
    "agent_systems_class[\"Id\"].values"
   ]
  },
  {
   "cell_type": "code",
   "execution_count": 70,
   "metadata": {
    "collapsed": true
   },
   "outputs": [],
   "source": [
    "def common_member(list_a, list_b):\n",
    "    a_set = set(list_a)\n",
    "    b_set = set(list_b)\n",
    "    return len(a_set & b_set) > 0"
   ]
  },
  {
   "cell_type": "code",
   "execution_count": 66,
   "metadata": {},
   "outputs": [
    {
     "data": {
      "text/html": [
       "<div>\n",
       "<style scoped>\n",
       "    .dataframe tbody tr th:only-of-type {\n",
       "        vertical-align: middle;\n",
       "    }\n",
       "\n",
       "    .dataframe tbody tr th {\n",
       "        vertical-align: top;\n",
       "    }\n",
       "\n",
       "    .dataframe thead th {\n",
       "        text-align: right;\n",
       "    }\n",
       "</style>\n",
       "<table border=\"1\" class=\"dataframe\">\n",
       "  <thead>\n",
       "    <tr style=\"text-align: right;\">\n",
       "      <th></th>\n",
       "      <th>id</th>\n",
       "      <th>title</th>\n",
       "      <th>year</th>\n",
       "      <th>authors</th>\n",
       "      <th>fos</th>\n",
       "      <th>references</th>\n",
       "    </tr>\n",
       "  </thead>\n",
       "  <tbody>\n",
       "    <tr>\n",
       "      <th>5</th>\n",
       "      <td>1965664720</td>\n",
       "      <td>A low power wireless sensor node with vibratio...</td>\n",
       "      <td>2014.0</td>\n",
       "      <td>[{'index': 2247601}, {'index': 1264008}, {'ind...</td>\n",
       "      <td>[{'name': '104', 'w': 0.0}, {'name': '649', 'w...</td>\n",
       "      <td>[1510600213, 2170239483]</td>\n",
       "    </tr>\n",
       "    <tr>\n",
       "      <th>6</th>\n",
       "      <td>1965664774</td>\n",
       "      <td>Shortest Paths Based Web Service Selection in ...</td>\n",
       "      <td>2014.0</td>\n",
       "      <td>[{'index': 2247603}, {'index': 2247604}]</td>\n",
       "      <td>[{'name': '2716', 'w': 0.5306294}, {'name': '2...</td>\n",
       "      <td>[1479916289, 1560267311, 2002838096, 200757299...</td>\n",
       "    </tr>\n",
       "    <tr>\n",
       "      <th>12</th>\n",
       "      <td>1965665477</td>\n",
       "      <td>Contracts for First-Class Classes</td>\n",
       "      <td>2013.0</td>\n",
       "      <td>[{'index': 465043}, {'index': 457705}, {'index...</td>\n",
       "      <td>[{'name': '10', 'w': 0.4498527}, {'name': '227...</td>\n",
       "      <td>[204817905, 1518650316, 1526601993, 1601712140...</td>\n",
       "    </tr>\n",
       "    <tr>\n",
       "      <th>16</th>\n",
       "      <td>1965665804</td>\n",
       "      <td>An interpretation of the Cover and Leung capac...</td>\n",
       "      <td>2012.0</td>\n",
       "      <td>[{'index': 283325}, {'index': 580777}]</td>\n",
       "      <td>[{'name': '0', 'w': 0.43447753800000005}, {'na...</td>\n",
       "      <td>[1489262227, 2011914761, 2014996477, 201797019...</td>\n",
       "    </tr>\n",
       "    <tr>\n",
       "      <th>20</th>\n",
       "      <td>1965666279</td>\n",
       "      <td>Implementing Linguistic Landscape investigatio...</td>\n",
       "      <td>2014.0</td>\n",
       "      <td>[{'index': 2247613}]</td>\n",
       "      <td>[{'name': '6531', 'w': 0.532050133}, {'name': ...</td>\n",
       "      <td>[1972366573]</td>\n",
       "    </tr>\n",
       "    <tr>\n",
       "      <th>...</th>\n",
       "      <td>...</td>\n",
       "      <td>...</td>\n",
       "      <td>...</td>\n",
       "      <td>...</td>\n",
       "      <td>...</td>\n",
       "      <td>...</td>\n",
       "    </tr>\n",
       "    <tr>\n",
       "      <th>4074424</th>\n",
       "      <td>2026775511</td>\n",
       "      <td>Bridging boolean and quantitative synthesis us...</td>\n",
       "      <td>2014.0</td>\n",
       "      <td>[{'index': 107666}, {'index': 875472}, {'index...</td>\n",
       "      <td>[{'name': '1797', 'w': 0.5759903}, {'name': '1...</td>\n",
       "      <td>[88990729, 1490985464, 1510918931, 1527924265,...</td>\n",
       "    </tr>\n",
       "    <tr>\n",
       "      <th>4074425</th>\n",
       "      <td>2026775633</td>\n",
       "      <td>Arrhythmia detection from heartbeat using k-ne...</td>\n",
       "      <td>2013.0</td>\n",
       "      <td>[{'index': 341106}, {'index': 875473}, {'index...</td>\n",
       "      <td>[{'name': '132', 'w': 0.393144459}, {'name': '...</td>\n",
       "      <td>[1986307910, 1988183757, 1988566213, 199689436...</td>\n",
       "    </tr>\n",
       "    <tr>\n",
       "      <th>4074429</th>\n",
       "      <td>2026775901</td>\n",
       "      <td>Organizational strategy development in distrib...</td>\n",
       "      <td>2012.0</td>\n",
       "      <td>[{'index': 376798}, {'index': 875477}, {'index...</td>\n",
       "      <td>[{'name': '2112', 'w': 0.4589141}, {'name': '2...</td>\n",
       "      <td>[1967519272, 1972794857, 1997772982, 200124498...</td>\n",
       "    </tr>\n",
       "    <tr>\n",
       "      <th>4074431</th>\n",
       "      <td>2026776168</td>\n",
       "      <td>Consideration effect of uncertainty in power s...</td>\n",
       "      <td>2011.0</td>\n",
       "      <td>[{'index': 875478}, {'index': 875479}]</td>\n",
       "      <td>[{'name': '1429', 'w': 0.492216617}, {'name': ...</td>\n",
       "      <td>[1969487128, 2000969056, 2008743043, 204852993...</td>\n",
       "    </tr>\n",
       "    <tr>\n",
       "      <th>4074434</th>\n",
       "      <td>2026776425</td>\n",
       "      <td>A scenario-based approach for requirements man...</td>\n",
       "      <td>2012.0</td>\n",
       "      <td>[{'index': 875487}, {'index': 875488}, {'index...</td>\n",
       "      <td>[{'name': '2690', 'w': 0.6620984999999999}, {'...</td>\n",
       "      <td>[1998981782, 2000149314, 2007472459, 203489187...</td>\n",
       "    </tr>\n",
       "  </tbody>\n",
       "</table>\n",
       "<p>1777240 rows × 6 columns</p>\n",
       "</div>"
      ],
      "text/plain": [
       "                 id                                              title  \\\n",
       "5        1965664720  A low power wireless sensor node with vibratio...   \n",
       "6        1965664774  Shortest Paths Based Web Service Selection in ...   \n",
       "12       1965665477                  Contracts for First-Class Classes   \n",
       "16       1965665804  An interpretation of the Cover and Leung capac...   \n",
       "20       1965666279  Implementing Linguistic Landscape investigatio...   \n",
       "...             ...                                                ...   \n",
       "4074424  2026775511  Bridging boolean and quantitative synthesis us...   \n",
       "4074425  2026775633  Arrhythmia detection from heartbeat using k-ne...   \n",
       "4074429  2026775901  Organizational strategy development in distrib...   \n",
       "4074431  2026776168  Consideration effect of uncertainty in power s...   \n",
       "4074434  2026776425  A scenario-based approach for requirements man...   \n",
       "\n",
       "           year                                            authors  \\\n",
       "5        2014.0  [{'index': 2247601}, {'index': 1264008}, {'ind...   \n",
       "6        2014.0           [{'index': 2247603}, {'index': 2247604}]   \n",
       "12       2013.0  [{'index': 465043}, {'index': 457705}, {'index...   \n",
       "16       2012.0             [{'index': 283325}, {'index': 580777}]   \n",
       "20       2014.0                               [{'index': 2247613}]   \n",
       "...         ...                                                ...   \n",
       "4074424  2014.0  [{'index': 107666}, {'index': 875472}, {'index...   \n",
       "4074425  2013.0  [{'index': 341106}, {'index': 875473}, {'index...   \n",
       "4074429  2012.0  [{'index': 376798}, {'index': 875477}, {'index...   \n",
       "4074431  2011.0             [{'index': 875478}, {'index': 875479}]   \n",
       "4074434  2012.0  [{'index': 875487}, {'index': 875488}, {'index...   \n",
       "\n",
       "                                                       fos  \\\n",
       "5        [{'name': '104', 'w': 0.0}, {'name': '649', 'w...   \n",
       "6        [{'name': '2716', 'w': 0.5306294}, {'name': '2...   \n",
       "12       [{'name': '10', 'w': 0.4498527}, {'name': '227...   \n",
       "16       [{'name': '0', 'w': 0.43447753800000005}, {'na...   \n",
       "20       [{'name': '6531', 'w': 0.532050133}, {'name': ...   \n",
       "...                                                    ...   \n",
       "4074424  [{'name': '1797', 'w': 0.5759903}, {'name': '1...   \n",
       "4074425  [{'name': '132', 'w': 0.393144459}, {'name': '...   \n",
       "4074429  [{'name': '2112', 'w': 0.4589141}, {'name': '2...   \n",
       "4074431  [{'name': '1429', 'w': 0.492216617}, {'name': ...   \n",
       "4074434  [{'name': '2690', 'w': 0.6620984999999999}, {'...   \n",
       "\n",
       "                                                references  \n",
       "5                                 [1510600213, 2170239483]  \n",
       "6        [1479916289, 1560267311, 2002838096, 200757299...  \n",
       "12       [204817905, 1518650316, 1526601993, 1601712140...  \n",
       "16       [1489262227, 2011914761, 2014996477, 201797019...  \n",
       "20                                            [1972366573]  \n",
       "...                                                    ...  \n",
       "4074424  [88990729, 1490985464, 1510918931, 1527924265,...  \n",
       "4074425  [1986307910, 1988183757, 1988566213, 199689436...  \n",
       "4074429  [1967519272, 1972794857, 1997772982, 200124498...  \n",
       "4074431  [1969487128, 2000969056, 2008743043, 204852993...  \n",
       "4074434  [1998981782, 2000149314, 2007472459, 203489187...  \n",
       "\n",
       "[1777240 rows x 6 columns]"
      ]
     },
     "execution_count": 66,
     "metadata": {},
     "output_type": "execute_result"
    }
   ],
   "source": [
    "filtered_with_wages = filtered_years.loc[filtered_years[\"fos\"].apply(lambda x: type(x) is not float)]\n",
    "filtered_with_wages"
   ]
  },
  {
   "cell_type": "code",
   "execution_count": 67,
   "metadata": {
    "collapsed": true
   },
   "outputs": [],
   "source": [
    "filtered_slice = filtered_years"
   ]
  },
  {
   "cell_type": "code",
   "execution_count": 68,
   "metadata": {
    "collapsed": true
   },
   "outputs": [],
   "source": [
    "filtered_slice[\"fos\"] = filtered_with_wages[\"fos\"].apply(lambda row: [int(field[\"name\"]) for field in row])"
   ]
  },
  {
   "cell_type": "code",
   "execution_count": 71,
   "metadata": {
    "collapsed": true
   },
   "outputs": [],
   "source": [
    "filtered_slice = filtered_slice.loc[filtered_slice[\"fos\"].apply(lambda foses: common_member(foses, agent_systems_class[\"Id\"].values))]"
   ]
  },
  {
   "cell_type": "code",
   "execution_count": 72,
   "metadata": {},
   "outputs": [
    {
     "data": {
      "text/plain": [
       "11965"
      ]
     },
     "execution_count": 72,
     "metadata": {},
     "output_type": "execute_result"
    }
   ],
   "source": [
    "len(filtered_slice)"
   ]
  },
  {
   "cell_type": "code",
   "execution_count": 73,
   "metadata": {},
   "outputs": [
    {
     "name": "stderr",
     "output_type": "stream",
     "text": [
      "/Users/bartek/anaconda3/lib/python3.6/site-packages/ipykernel_launcher.py:1: SettingWithCopyWarning: \n",
      "A value is trying to be set on a copy of a slice from a DataFrame.\n",
      "Try using .loc[row_indexer,col_indexer] = value instead\n",
      "\n",
      "See the caveats in the documentation: https://pandas.pydata.org/pandas-docs/stable/user_guide/indexing.html#returning-a-view-versus-a-copy\n",
      "  \"\"\"Entry point for launching an IPython kernel.\n"
     ]
    }
   ],
   "source": [
    "filtered_slice[\"author_references\"] = filtered_slice[\"references\"].apply(get_authors_ids)"
   ]
  },
  {
   "cell_type": "code",
   "execution_count": 74,
   "metadata": {},
   "outputs": [
    {
     "data": {
      "text/html": [
       "<div>\n",
       "<style scoped>\n",
       "    .dataframe tbody tr th:only-of-type {\n",
       "        vertical-align: middle;\n",
       "    }\n",
       "\n",
       "    .dataframe tbody tr th {\n",
       "        vertical-align: top;\n",
       "    }\n",
       "\n",
       "    .dataframe thead th {\n",
       "        text-align: right;\n",
       "    }\n",
       "</style>\n",
       "<table border=\"1\" class=\"dataframe\">\n",
       "  <thead>\n",
       "    <tr style=\"text-align: right;\">\n",
       "      <th></th>\n",
       "      <th>id</th>\n",
       "      <th>title</th>\n",
       "      <th>year</th>\n",
       "      <th>authors</th>\n",
       "      <th>fos</th>\n",
       "      <th>references</th>\n",
       "      <th>author_references</th>\n",
       "    </tr>\n",
       "  </thead>\n",
       "  <tbody>\n",
       "    <tr>\n",
       "      <th>87</th>\n",
       "      <td>1965672995</td>\n",
       "      <td>Resource awareness in computational intelligence</td>\n",
       "      <td>2011.0</td>\n",
       "      <td>[{'index': 35861}, {'index': 155234}, {'index'...</td>\n",
       "      <td>[1455, 132, 104, 672, 355, 4828, 4, 1048, 207,...</td>\n",
       "      <td>[80917968, 135902891, 179774170, 206495011, 15...</td>\n",
       "      <td>[550796, 2480915, 240788, 42390, 3583768, 2649...</td>\n",
       "    </tr>\n",
       "    <tr>\n",
       "      <th>447</th>\n",
       "      <td>1965709183</td>\n",
       "      <td>Second-order group consensus for multi-agent s...</td>\n",
       "      <td>2015.0</td>\n",
       "      <td>[{'index': 2247908}, {'index': 2247908}, {'ind...</td>\n",
       "      <td>[165, 6972, 42, 233, 499, 932, 935, 47]</td>\n",
       "      <td>[1966811233, 1974954027, 1985131825, 198543133...</td>\n",
       "      <td>[1666310, 2496519, 193670, 193671, 126346, 224...</td>\n",
       "    </tr>\n",
       "    <tr>\n",
       "      <th>483</th>\n",
       "      <td>1965712808</td>\n",
       "      <td>An extensible toolbox for modeling nature-soci...</td>\n",
       "      <td>2013.0</td>\n",
       "      <td>[{'index': 492477}, {'index': 1467334}, {'inde...</td>\n",
       "      <td>[10693, 441, 2249, 819, 1397, 579, 4, 10, 499,...</td>\n",
       "      <td>[1544752055, 1563849906, 1963843280, 198140440...</td>\n",
       "      <td>[937857, 116871, 1808903, 255240, 172176, 1167...</td>\n",
       "    </tr>\n",
       "    <tr>\n",
       "      <th>794</th>\n",
       "      <td>1965745702</td>\n",
       "      <td>A novel agent-based concept of household appli...</td>\n",
       "      <td>2011.0</td>\n",
       "      <td>[{'index': 2248185}, {'index': 111292}]</td>\n",
       "      <td>[506, 355, 4789, 0, 293, 499, 11240, 12992, 554]</td>\n",
       "      <td>[198400421, 1506992748, 1513230940, 1556082038...</td>\n",
       "      <td>[233890, 106884, 372325, 106886, 171242, 63211...</td>\n",
       "    </tr>\n",
       "    <tr>\n",
       "      <th>1855</th>\n",
       "      <td>1965850651</td>\n",
       "      <td>Cluster-based instance selection for machine c...</td>\n",
       "      <td>2012.0</td>\n",
       "      <td>[{'index': 48145}]</td>\n",
       "      <td>[1940, 434, 1973, 3024, 132, 273, 1941, 1943, ...</td>\n",
       "      <td>[14890737, 165439655, 198984407, 1535979681, 1...</td>\n",
       "      <td>[335616, 262787, 1448580, 1855621, 1737226, 61...</td>\n",
       "    </tr>\n",
       "    <tr>\n",
       "      <th>...</th>\n",
       "      <td>...</td>\n",
       "      <td>...</td>\n",
       "      <td>...</td>\n",
       "      <td>...</td>\n",
       "      <td>...</td>\n",
       "      <td>...</td>\n",
       "      <td>...</td>\n",
       "    </tr>\n",
       "    <tr>\n",
       "      <th>4073401</th>\n",
       "      <td>2026676438</td>\n",
       "      <td>A Family of Heuristics for Agent-Based Cloud B...</td>\n",
       "      <td>2011.0</td>\n",
       "      <td>[{'index': 304132}, {'index': 319862}]</td>\n",
       "      <td>[0, 12458, 714, 590, 499, 4, 1287, 4676, 858, ...</td>\n",
       "      <td>[1992734168, 1996689181, 2031612682, 209702556...</td>\n",
       "      <td>[324480, 2944384, 266755, 304132, 474755, 2704...</td>\n",
       "    </tr>\n",
       "    <tr>\n",
       "      <th>4073433</th>\n",
       "      <td>2026678777</td>\n",
       "      <td>Interleaving multi-agent systems and social ne...</td>\n",
       "      <td>2011.0</td>\n",
       "      <td>[{'index': 89112}, {'index': 874269}, {'index'...</td>\n",
       "      <td>[53, 1227, 373, 127, 4, 1152, 5186, 499, 153, ...</td>\n",
       "      <td>[236418988, 1490468685, 1504739390, 1511711801...</td>\n",
       "      <td>[3607562, 281099, 943118, 191504, 790035, 8911...</td>\n",
       "    </tr>\n",
       "    <tr>\n",
       "      <th>4073662</th>\n",
       "      <td>2026701147</td>\n",
       "      <td>Quantised consensus of multi-agent systems wit...</td>\n",
       "      <td>2015.0</td>\n",
       "      <td>[{'index': 296652}, {'index': 296651}, {'index...</td>\n",
       "      <td>[42, 1088, 233, 12669, 396, 47, 499, 935]</td>\n",
       "      <td>[1982947074, 1991360560, 1996032233, 199910691...</td>\n",
       "      <td>[454273, 2496519, 50568, 44039, 1104010, 37004...</td>\n",
       "    </tr>\n",
       "    <tr>\n",
       "      <th>4073703</th>\n",
       "      <td>2026705559</td>\n",
       "      <td>Enabling agent reasoning over the web</td>\n",
       "      <td>2013.0</td>\n",
       "      <td>[{'index': 233187}, {'index': 233188}, {'index...</td>\n",
       "      <td>[127, 273, 9873, 1498, 172, 470, 11357, 32, 10...</td>\n",
       "      <td>[141753744, 1489021242, 1571255423, 1848570230...</td>\n",
       "      <td>[494855, 550796, 42390, 224286, 57758, 793516,...</td>\n",
       "    </tr>\n",
       "    <tr>\n",
       "      <th>4073892</th>\n",
       "      <td>2026724689</td>\n",
       "      <td>Innovating multiagent algorithms for smart cit...</td>\n",
       "      <td>2012.0</td>\n",
       "      <td>[{'index': 58658}, {'index': 474610}, {'index'...</td>\n",
       "      <td>[4, 98, 9470, 4788, 5280, 101, 499, 40]</td>\n",
       "      <td>[75365351, 1879156100, 2031236641, 2087754458,...</td>\n",
       "      <td>[185345, 32514, 598157, 340238, 92943, 329234,...</td>\n",
       "    </tr>\n",
       "  </tbody>\n",
       "</table>\n",
       "<p>11965 rows × 7 columns</p>\n",
       "</div>"
      ],
      "text/plain": [
       "                 id                                              title  \\\n",
       "87       1965672995   Resource awareness in computational intelligence   \n",
       "447      1965709183  Second-order group consensus for multi-agent s...   \n",
       "483      1965712808  An extensible toolbox for modeling nature-soci...   \n",
       "794      1965745702  A novel agent-based concept of household appli...   \n",
       "1855     1965850651  Cluster-based instance selection for machine c...   \n",
       "...             ...                                                ...   \n",
       "4073401  2026676438  A Family of Heuristics for Agent-Based Cloud B...   \n",
       "4073433  2026678777  Interleaving multi-agent systems and social ne...   \n",
       "4073662  2026701147  Quantised consensus of multi-agent systems wit...   \n",
       "4073703  2026705559              Enabling agent reasoning over the web   \n",
       "4073892  2026724689  Innovating multiagent algorithms for smart cit...   \n",
       "\n",
       "           year                                            authors  \\\n",
       "87       2011.0  [{'index': 35861}, {'index': 155234}, {'index'...   \n",
       "447      2015.0  [{'index': 2247908}, {'index': 2247908}, {'ind...   \n",
       "483      2013.0  [{'index': 492477}, {'index': 1467334}, {'inde...   \n",
       "794      2011.0            [{'index': 2248185}, {'index': 111292}]   \n",
       "1855     2012.0                                 [{'index': 48145}]   \n",
       "...         ...                                                ...   \n",
       "4073401  2011.0             [{'index': 304132}, {'index': 319862}]   \n",
       "4073433  2011.0  [{'index': 89112}, {'index': 874269}, {'index'...   \n",
       "4073662  2015.0  [{'index': 296652}, {'index': 296651}, {'index...   \n",
       "4073703  2013.0  [{'index': 233187}, {'index': 233188}, {'index...   \n",
       "4073892  2012.0  [{'index': 58658}, {'index': 474610}, {'index'...   \n",
       "\n",
       "                                                       fos  \\\n",
       "87       [1455, 132, 104, 672, 355, 4828, 4, 1048, 207,...   \n",
       "447                [165, 6972, 42, 233, 499, 932, 935, 47]   \n",
       "483      [10693, 441, 2249, 819, 1397, 579, 4, 10, 499,...   \n",
       "794       [506, 355, 4789, 0, 293, 499, 11240, 12992, 554]   \n",
       "1855     [1940, 434, 1973, 3024, 132, 273, 1941, 1943, ...   \n",
       "...                                                    ...   \n",
       "4073401  [0, 12458, 714, 590, 499, 4, 1287, 4676, 858, ...   \n",
       "4073433  [53, 1227, 373, 127, 4, 1152, 5186, 499, 153, ...   \n",
       "4073662          [42, 1088, 233, 12669, 396, 47, 499, 935]   \n",
       "4073703  [127, 273, 9873, 1498, 172, 470, 11357, 32, 10...   \n",
       "4073892            [4, 98, 9470, 4788, 5280, 101, 499, 40]   \n",
       "\n",
       "                                                references  \\\n",
       "87       [80917968, 135902891, 179774170, 206495011, 15...   \n",
       "447      [1966811233, 1974954027, 1985131825, 198543133...   \n",
       "483      [1544752055, 1563849906, 1963843280, 198140440...   \n",
       "794      [198400421, 1506992748, 1513230940, 1556082038...   \n",
       "1855     [14890737, 165439655, 198984407, 1535979681, 1...   \n",
       "...                                                    ...   \n",
       "4073401  [1992734168, 1996689181, 2031612682, 209702556...   \n",
       "4073433  [236418988, 1490468685, 1504739390, 1511711801...   \n",
       "4073662  [1982947074, 1991360560, 1996032233, 199910691...   \n",
       "4073703  [141753744, 1489021242, 1571255423, 1848570230...   \n",
       "4073892  [75365351, 1879156100, 2031236641, 2087754458,...   \n",
       "\n",
       "                                         author_references  \n",
       "87       [550796, 2480915, 240788, 42390, 3583768, 2649...  \n",
       "447      [1666310, 2496519, 193670, 193671, 126346, 224...  \n",
       "483      [937857, 116871, 1808903, 255240, 172176, 1167...  \n",
       "794      [233890, 106884, 372325, 106886, 171242, 63211...  \n",
       "1855     [335616, 262787, 1448580, 1855621, 1737226, 61...  \n",
       "...                                                    ...  \n",
       "4073401  [324480, 2944384, 266755, 304132, 474755, 2704...  \n",
       "4073433  [3607562, 281099, 943118, 191504, 790035, 8911...  \n",
       "4073662  [454273, 2496519, 50568, 44039, 1104010, 37004...  \n",
       "4073703  [494855, 550796, 42390, 224286, 57758, 793516,...  \n",
       "4073892  [185345, 32514, 598157, 340238, 92943, 329234,...  \n",
       "\n",
       "[11965 rows x 7 columns]"
      ]
     },
     "execution_count": 74,
     "metadata": {},
     "output_type": "execute_result"
    }
   ],
   "source": [
    "filtered_slice"
   ]
  },
  {
   "cell_type": "code",
   "execution_count": 75,
   "metadata": {
    "collapsed": true
   },
   "outputs": [],
   "source": [
    "from networkx.algorithms.community.kclique import k_clique_communities"
   ]
  },
  {
   "cell_type": "code",
   "execution_count": 133,
   "metadata": {},
   "outputs": [
    {
     "data": {
      "text/plain": [
       "87         None\n",
       "447        None\n",
       "483        None\n",
       "794        None\n",
       "1855       None\n",
       "           ... \n",
       "4073401    None\n",
       "4073433    None\n",
       "4073662    None\n",
       "4073703    None\n",
       "4073892    None\n",
       "Length: 11965, dtype: object"
      ]
     },
     "execution_count": 133,
     "metadata": {},
     "output_type": "execute_result"
    }
   ],
   "source": [
    "citation_dict = {}\n",
    "def fill_graph(row, graph):\n",
    "    authors = list(row[\"authors\"])\n",
    "    references_authors = list(row[\"author_references\"])\n",
    "    for author in list(authors):\n",
    "        for refrence_author in references_authors:\n",
    "            edge_name = str(author[\"index\"]) + \"_\" + str(refrence_author)\n",
    "            weight = graph.get(edge_name, 0)\n",
    "            graph[edge_name] = weight + 1\n",
    "            \n",
    "filtered_slice.apply(lambda row: fill_graph(row, citation_dict), axis=1)"
   ]
  },
  {
   "cell_type": "code",
   "execution_count": 151,
   "metadata": {},
   "outputs": [
    {
     "data": {
      "text/plain": [
       "<networkx.classes.digraph.DiGraph at 0x5cb42c6d8>"
      ]
     },
     "execution_count": 151,
     "metadata": {},
     "output_type": "execute_result"
    }
   ],
   "source": [
    "import networkx\n",
    "citation_graph = networkx.DiGraph()\n",
    "for edge in citation_dict.keys():\n",
    "    nodes = edge.split(\"_\")\n",
    "    node_x = int(nodes[0])\n",
    "    node_y = int(nodes[1])\n",
    "    weight = int(citation_dict[edge])\n",
    "    citation_graph.add_edge(node_x, node_y, weight = weight)\n",
    "citation_graph"
   ]
  },
  {
   "cell_type": "code",
   "execution_count": 152,
   "metadata": {},
   "outputs": [
    {
     "data": {
      "text/plain": [
       "1045412"
      ]
     },
     "execution_count": 152,
     "metadata": {},
     "output_type": "execute_result"
    }
   ],
   "source": [
    "citation_graph.number_of_edges()"
   ]
  },
  {
   "cell_type": "code",
   "execution_count": 154,
   "metadata": {
    "collapsed": true
   },
   "outputs": [],
   "source": [
    "networkx.write_gexf(citation_graph,\"citation_graph_for_agent_systems.gexf\")"
   ]
  },
  {
   "cell_type": "code",
   "execution_count": 210,
   "metadata": {
    "collapsed": true
   },
   "outputs": [],
   "source": [
    "def are_bidirectional_neighbors(a, b, g):\n",
    "    return a in g.neighbors(b)"
   ]
  },
  {
   "cell_type": "code",
   "execution_count": 211,
   "metadata": {
    "collapsed": true
   },
   "outputs": [],
   "source": [
    "def get_bidirectional_nodes(graph):\n",
    "    bidirectional_nodes = {}\n",
    "    for element, adjacency in graph.adjacency():\n",
    "        b_neighbors = list(map(lambda x: x[0], list(adjacency.items())))\n",
    "        for neighbor in b_neighbors:\n",
    "            if are_bidirectional_neighbors(element, neighbor, graph):\n",
    "                element_bidirectional_neighbours = bidirectional_nodes.get(element, [])\n",
    "                element_bidirectional_neighbours.append(neighbor)\n",
    "                bidirectional_nodes[element] = element_bidirectional_neighbours\n",
    "    return bidirectional_nodes\n",
    "bidirectional_nodes = get_bidirectional_nodes(citation_graph)"
   ]
  },
  {
   "cell_type": "code",
   "execution_count": 221,
   "metadata": {
    "collapsed": true
   },
   "outputs": [],
   "source": [
    "sorted_bidirectional_nodes = [(k,v) for k, v in sorted(bidirectional_nodes.items(), key=lambda item: len(item[1]), reverse=True)]"
   ]
  },
  {
   "cell_type": "code",
   "execution_count": 249,
   "metadata": {},
   "outputs": [
    {
     "data": {
      "text/plain": [
       "9281"
      ]
     },
     "execution_count": 249,
     "metadata": {},
     "output_type": "execute_result"
    }
   ],
   "source": [
    "len(sorted_bidirectional_nodes)"
   ]
  },
  {
   "cell_type": "code",
   "execution_count": 244,
   "metadata": {
    "collapsed": true
   },
   "outputs": [],
   "source": [
    "top_bidirectional_nodes = []\n",
    "for element, bidirectional_neighbors in sorted_bidirectional_nodes[:20]:\n",
    "    top_bidirectional_nodes.append((element, len(bidirectional_neighbors)))"
   ]
  },
  {
   "cell_type": "code",
   "execution_count": 230,
   "metadata": {},
   "outputs": [
    {
     "data": {
      "text/plain": [
       "[{'index': 2247598}, {'index': 190104}]"
      ]
     },
     "execution_count": 230,
     "metadata": {},
     "output_type": "execute_result"
    }
   ],
   "source": [
    "def get_author_name(row, graph):\n",
    "    authors = list(row[\"authors\"])\n",
    "    references_authors = list(row[\"author_references\"])\n",
    "    for author in list(authors):\n",
    "        for refrence_author in references_authors:\n",
    "            edge_name = str(author[\"index\"]) + \"_\" + str(refrence_author)\n",
    "            weight = graph.get(edge_name, 0)\n",
    "            graph[edge_name] = weight + 1\n",
    "            \n",
    "df[\"authors\"].apply(lambda authors: fill_graph(row, citation_dict), axis=1)"
   ]
  },
  {
   "cell_type": "code",
   "execution_count": 232,
   "metadata": {
    "collapsed": true
   },
   "outputs": [],
   "source": [
    "import json\n",
    "authors_index_to_id = {}\n",
    "with open('authors_index_to_id.json') as json_file:\n",
    "    authors_index_to_id = json.load(json_file)"
   ]
  },
  {
   "cell_type": "code",
   "execution_count": 233,
   "metadata": {
    "collapsed": true
   },
   "outputs": [],
   "source": [
    "authors_id_name_map = {}\n",
    "with open('authors_id__name_map.json') as json_file:\n",
    "    authors_id_name_map = json.load(json_file)\n"
   ]
  },
  {
   "cell_type": "code",
   "execution_count": 248,
   "metadata": {},
   "outputs": [
    {
     "name": "stdout",
     "output_type": "stream",
     "text": [
      "- Wei Ren - 296\n",
      "- Guanrong Chen - 262\n",
      "- Wenwu Yu - 233\n",
      "- Long Wang - 208\n",
      "- Jinde Cao - 193\n",
      "- Nicholas R. Jennings - 192\n",
      "- Lihua Xie - 149\n",
      "- Frank L. Lewis - 146\n",
      "- Guanghui Wen - 144\n",
      "- Gang Feng - 136\n",
      "- Michael Luck - 134\n",
      "- Yongcan Cao - 129\n",
      "- Dimos V. Dimarogonas - 125\n",
      "- Wei Xing Zheng - 123\n",
      "- Yiguang Hong - 122\n",
      "- Huijun Gao - 121\n",
      "- Zidong Wang - 113\n",
      "- Housheng Su - 110\n",
      "- Zhisheng Duan - 110\n",
      "- Karl Henrik Johansson - 110\n"
     ]
    }
   ],
   "source": [
    "for element, count in top_bidirectional_nodes:\n",
    "    name = authors_id_name_map[authors_index_to_id[str(element)]][\"name\"]\n",
    "    print(\"- %s - %d\" % (name, count))"
   ]
  },
  {
   "cell_type": "code",
   "execution_count": null,
   "metadata": {
    "collapsed": true
   },
   "outputs": [],
   "source": []
  }
 ],
 "metadata": {
  "kernelspec": {
   "display_name": "Python 3",
   "language": "python",
   "name": "python3"
  },
  "language_info": {
   "codemirror_mode": {
    "name": "ipython",
    "version": 3
   },
   "file_extension": ".py",
   "mimetype": "text/x-python",
   "name": "python",
   "nbconvert_exporter": "python",
   "pygments_lexer": "ipython3",
   "version": "3.6.2"
  }
 },
 "nbformat": 4,
 "nbformat_minor": 2
}
