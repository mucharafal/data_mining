{
 "cells": [
  {
   "cell_type": "code",
   "execution_count": 1,
   "metadata": {},
   "outputs": [],
   "source": [
    "from os import listdir\n",
    "from os.path import isfile, join\n",
    "import os\n",
    "import pandas\n",
    "import matplotlib.pyplot as plt\n",
    "import numpy as np\n",
    "import multiprocessing\n",
    "import fos_reader\n",
    "pool = multiprocessing.Pool()\n",
    "onlyfiles = [f for f in listdir(os.getcwd()) if isfile(join(os.getcwd(), f))]"
   ]
  },
  {
   "cell_type": "code",
   "execution_count": 2,
   "metadata": {},
   "outputs": [],
   "source": [
    "def reader_fos(fileName):\n",
    "    df = pandas.read_json(fileName, lines=True)\n",
    "    fos_with_nan_and_wages = df[\"fos\"]\n",
    "    fos_with_wages = fos_with_nan_and_wages.loc[fos_with_nan_and_wages.apply(lambda x: type(x) is not float)]\n",
    "    fos = fos_with_wages.apply(lambda row: [field[\"name\"] for field in row])\n",
    "    return fos"
   ]
  },
  {
   "cell_type": "code",
   "execution_count": 3,
   "metadata": {},
   "outputs": [],
   "source": [
    "import re\n",
    "dblp_part_regex = re.compile(\"author_indexed_fos_*\")\n",
    "part_files_filter_obj = filter(lambda file_name: dblp_part_regex.match(file_name), onlyfiles)"
   ]
  },
  {
   "cell_type": "code",
   "execution_count": 4,
   "metadata": {},
   "outputs": [],
   "source": [
    "part_files = list(part_files_filter_obj)"
   ]
  },
  {
   "cell_type": "code",
   "execution_count": 5,
   "metadata": {},
   "outputs": [],
   "source": [
    "list_of_dataframes = list(pool.map(fos_reader.reader_fos, part_files))"
   ]
  },
  {
   "cell_type": "code",
   "execution_count": 6,
   "metadata": {},
   "outputs": [],
   "source": [
    "df = pandas.concat(list_of_dataframes, ignore_index=True)"
   ]
  },
  {
   "cell_type": "code",
   "execution_count": 7,
   "metadata": {},
   "outputs": [],
   "source": [
    "lists = df.map(lambda lisT: np.array(lisT))"
   ]
  },
  {
   "cell_type": "code",
   "execution_count": 8,
   "metadata": {},
   "outputs": [],
   "source": [
    "np_with_fos = np.concatenate(lists.to_numpy())"
   ]
  },
  {
   "cell_type": "code",
   "execution_count": 9,
   "metadata": {},
   "outputs": [],
   "source": [
    "df_with_fos = pandas.Series(np_with_fos)"
   ]
  },
  {
   "cell_type": "code",
   "execution_count": 10,
   "metadata": {},
   "outputs": [],
   "source": [
    "counted_fos = df_with_fos.groupby(df_with_fos).count()"
   ]
  },
  {
   "cell_type": "code",
   "execution_count": 11,
   "metadata": {},
   "outputs": [
    {
     "data": {
      "text/plain": [
       "0            689\n",
       "1        1027249\n",
       "10        168098\n",
       "100        43831\n",
       "1000       11027\n",
       "          ...   \n",
       "99995          1\n",
       "99996          1\n",
       "99997          1\n",
       "99998          2\n",
       "99999          2\n",
       "Length: 107084, dtype: int64"
      ]
     },
     "execution_count": 11,
     "metadata": {},
     "output_type": "execute_result"
    }
   ],
   "source": [
    "counted_fos"
   ]
  },
  {
   "cell_type": "code",
   "execution_count": 12,
   "metadata": {},
   "outputs": [],
   "source": [
    "sorted_fos = counted_fos.sort_values(ascending=False)"
   ]
  },
  {
   "cell_type": "code",
   "execution_count": 13,
   "metadata": {},
   "outputs": [
    {
     "data": {
      "text/plain": [
       "17       2606697\n",
       "1        1027249\n",
       "12        904733\n",
       "31        482419\n",
       "3         420260\n",
       "          ...   \n",
       "47073          1\n",
       "89490          1\n",
       "89488          1\n",
       "89487          1\n",
       "32542          1\n",
       "Length: 107084, dtype: int64"
      ]
     },
     "execution_count": 13,
     "metadata": {},
     "output_type": "execute_result"
    }
   ],
   "source": [
    "sorted_fos"
   ]
  },
  {
   "cell_type": "code",
   "execution_count": 14,
   "metadata": {},
   "outputs": [],
   "source": [
    "hot_topics = sorted_fos[:10]"
   ]
  },
  {
   "cell_type": "code",
   "execution_count": 15,
   "metadata": {},
   "outputs": [
    {
     "data": {
      "text/plain": [
       "17     2606697\n",
       "1      1027249\n",
       "12      904733\n",
       "31      482419\n",
       "3       420260\n",
       "195     377590\n",
       "122     371681\n",
       "107     364725\n",
       "9       346928\n",
       "52      323070\n",
       "dtype: int64"
      ]
     },
     "execution_count": 15,
     "metadata": {},
     "output_type": "execute_result"
    }
   ],
   "source": [
    "hot_topics"
   ]
  },
  {
   "cell_type": "code",
   "execution_count": 16,
   "metadata": {},
   "outputs": [],
   "source": [
    "import json\n",
    "\n",
    "with open(\"fos_index_map.json\") as map_file:\n",
    "    file = map_file.read()\n",
    "    map_fos_to_int = json.loads(file)\n",
    "\n",
    "    map_int_to_fos = {value:key for key, value in map_fos_to_int.items()} "
   ]
  },
  {
   "cell_type": "code",
   "execution_count": 17,
   "metadata": {},
   "outputs": [],
   "source": [
    "fos_index = hot_topics.reset_index()[\"index\"].apply(lambda fos_number: map_int_to_fos[int(fos_number)])"
   ]
  },
  {
   "cell_type": "code",
   "execution_count": 18,
   "metadata": {},
   "outputs": [],
   "source": [
    "map_int_to_fos = {value:key for key, value in map_fos_to_int.items()} "
   ]
  },
  {
   "cell_type": "code",
   "execution_count": 19,
   "metadata": {},
   "outputs": [
    {
     "data": {
      "text/plain": [
       "'Discrete mathematics'"
      ]
     },
     "execution_count": 19,
     "metadata": {},
     "output_type": "execute_result"
    }
   ],
   "source": [
    "map_int_to_fos[52]"
   ]
  },
  {
   "cell_type": "code",
   "execution_count": 20,
   "metadata": {},
   "outputs": [],
   "source": [
    "ht = hot_topics.reset_index()"
   ]
  },
  {
   "cell_type": "code",
   "execution_count": 21,
   "metadata": {},
   "outputs": [],
   "source": [
    "ht[\"index\"] = fos_index"
   ]
  },
  {
   "cell_type": "code",
   "execution_count": 22,
   "metadata": {},
   "outputs": [],
   "source": [
    "ht.columns = [\"Name of field of study\", \"Number of occurences\"]"
   ]
  },
  {
   "cell_type": "code",
   "execution_count": 23,
   "metadata": {},
   "outputs": [
    {
     "data": {
      "text/html": [
       "<style  type=\"text/css\" >\n",
       "</style><table id=\"T_17a841bc_6c80_11ea_b53b_525400abfac3\" ><caption>Tabela 1. Zestawienie najbardziej popularnych słów kluczowych</caption><thead>    <tr>        <th class=\"blank level0\" ></th>        <th class=\"col_heading level0 col0\" >Name of field of study</th>        <th class=\"col_heading level0 col1\" >Number of occurences</th>    </tr></thead><tbody>\n",
       "                <tr>\n",
       "                        <th id=\"T_17a841bc_6c80_11ea_b53b_525400abfac3level0_row0\" class=\"row_heading level0 row0\" >0</th>\n",
       "                        <td id=\"T_17a841bc_6c80_11ea_b53b_525400abfac3row0_col0\" class=\"data row0 col0\" >Computer science</td>\n",
       "                        <td id=\"T_17a841bc_6c80_11ea_b53b_525400abfac3row0_col1\" class=\"data row0 col1\" >2606697</td>\n",
       "            </tr>\n",
       "            <tr>\n",
       "                        <th id=\"T_17a841bc_6c80_11ea_b53b_525400abfac3level0_row1\" class=\"row_heading level0 row1\" >1</th>\n",
       "                        <td id=\"T_17a841bc_6c80_11ea_b53b_525400abfac3row1_col0\" class=\"data row1 col0\" >Artificial intelligence</td>\n",
       "                        <td id=\"T_17a841bc_6c80_11ea_b53b_525400abfac3row1_col1\" class=\"data row1 col1\" >1027249</td>\n",
       "            </tr>\n",
       "            <tr>\n",
       "                        <th id=\"T_17a841bc_6c80_11ea_b53b_525400abfac3level0_row2\" class=\"row_heading level0 row2\" >2</th>\n",
       "                        <td id=\"T_17a841bc_6c80_11ea_b53b_525400abfac3row2_col0\" class=\"data row2 col0\" >Mathematics</td>\n",
       "                        <td id=\"T_17a841bc_6c80_11ea_b53b_525400abfac3row2_col1\" class=\"data row2 col1\" >904733</td>\n",
       "            </tr>\n",
       "            <tr>\n",
       "                        <th id=\"T_17a841bc_6c80_11ea_b53b_525400abfac3level0_row3\" class=\"row_heading level0 row3\" >3</th>\n",
       "                        <td id=\"T_17a841bc_6c80_11ea_b53b_525400abfac3row3_col0\" class=\"data row3 col0\" >Machine learning</td>\n",
       "                        <td id=\"T_17a841bc_6c80_11ea_b53b_525400abfac3row3_col1\" class=\"data row3 col1\" >482419</td>\n",
       "            </tr>\n",
       "            <tr>\n",
       "                        <th id=\"T_17a841bc_6c80_11ea_b53b_525400abfac3level0_row4\" class=\"row_heading level0 row4\" >4</th>\n",
       "                        <td id=\"T_17a841bc_6c80_11ea_b53b_525400abfac3row4_col0\" class=\"data row4 col0\" >Mathematical optimization</td>\n",
       "                        <td id=\"T_17a841bc_6c80_11ea_b53b_525400abfac3row4_col1\" class=\"data row4 col1\" >420260</td>\n",
       "            </tr>\n",
       "            <tr>\n",
       "                        <th id=\"T_17a841bc_6c80_11ea_b53b_525400abfac3level0_row5\" class=\"row_heading level0 row5\" >5</th>\n",
       "                        <td id=\"T_17a841bc_6c80_11ea_b53b_525400abfac3row5_col0\" class=\"data row5 col0\" >Real-time computing</td>\n",
       "                        <td id=\"T_17a841bc_6c80_11ea_b53b_525400abfac3row5_col1\" class=\"data row5 col1\" >377590</td>\n",
       "            </tr>\n",
       "            <tr>\n",
       "                        <th id=\"T_17a841bc_6c80_11ea_b53b_525400abfac3level0_row6\" class=\"row_heading level0 row6\" >6</th>\n",
       "                        <td id=\"T_17a841bc_6c80_11ea_b53b_525400abfac3row6_col0\" class=\"data row6 col0\" >Distributed computing</td>\n",
       "                        <td id=\"T_17a841bc_6c80_11ea_b53b_525400abfac3row6_col1\" class=\"data row6 col1\" >371681</td>\n",
       "            </tr>\n",
       "            <tr>\n",
       "                        <th id=\"T_17a841bc_6c80_11ea_b53b_525400abfac3level0_row7\" class=\"row_heading level0 row7\" >7</th>\n",
       "                        <td id=\"T_17a841bc_6c80_11ea_b53b_525400abfac3row7_col0\" class=\"data row7 col0\" >Computer vision</td>\n",
       "                        <td id=\"T_17a841bc_6c80_11ea_b53b_525400abfac3row7_col1\" class=\"data row7 col1\" >364725</td>\n",
       "            </tr>\n",
       "            <tr>\n",
       "                        <th id=\"T_17a841bc_6c80_11ea_b53b_525400abfac3level0_row8\" class=\"row_heading level0 row8\" >8</th>\n",
       "                        <td id=\"T_17a841bc_6c80_11ea_b53b_525400abfac3row8_col0\" class=\"data row8 col0\" >Pattern recognition</td>\n",
       "                        <td id=\"T_17a841bc_6c80_11ea_b53b_525400abfac3row8_col1\" class=\"data row8 col1\" >346928</td>\n",
       "            </tr>\n",
       "            <tr>\n",
       "                        <th id=\"T_17a841bc_6c80_11ea_b53b_525400abfac3level0_row9\" class=\"row_heading level0 row9\" >9</th>\n",
       "                        <td id=\"T_17a841bc_6c80_11ea_b53b_525400abfac3row9_col0\" class=\"data row9 col0\" >Discrete mathematics</td>\n",
       "                        <td id=\"T_17a841bc_6c80_11ea_b53b_525400abfac3row9_col1\" class=\"data row9 col1\" >323070</td>\n",
       "            </tr>\n",
       "    </tbody></table>"
      ],
      "text/plain": [
       "<pandas.io.formats.style.Styler at 0x7fa3fbf00450>"
      ]
     },
     "execution_count": 23,
     "metadata": {},
     "output_type": "execute_result"
    }
   ],
   "source": [
    "ht.style.set_caption(\"Tabela 1. Zestawienie najbardziej popularnych słów kluczowych\")"
   ]
  },
  {
   "cell_type": "code",
   "execution_count": 24,
   "metadata": {},
   "outputs": [
    {
     "data": {
      "text/plain": [
       "107084"
      ]
     },
     "execution_count": 24,
     "metadata": {},
     "output_type": "execute_result"
    }
   ],
   "source": [
    "len(map_int_to_fos)"
   ]
  },
  {
   "cell_type": "code",
   "execution_count": null,
   "metadata": {},
   "outputs": [],
   "source": []
  }
 ],
 "metadata": {
  "kernelspec": {
   "display_name": "Python 3",
   "language": "python",
   "name": "python3"
  },
  "language_info": {
   "codemirror_mode": {
    "name": "ipython",
    "version": 3
   },
   "file_extension": ".py",
   "mimetype": "text/x-python",
   "name": "python",
   "nbconvert_exporter": "python",
   "pygments_lexer": "ipython3",
   "version": "3.7.4"
  }
 },
 "nbformat": 4,
 "nbformat_minor": 2
}
