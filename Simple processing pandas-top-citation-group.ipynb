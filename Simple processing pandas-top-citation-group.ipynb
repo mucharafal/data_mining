{
 "cells": [
  {
   "cell_type": "code",
   "execution_count": 1,
   "metadata": {
    "collapsed": true
   },
   "outputs": [],
   "source": [
    "from os import listdir\n",
    "from os.path import isfile, join\n",
    "import os\n",
    "import re\n",
    "import pandas\n",
    "import matplotlib.pyplot as plt\n",
    "import numpy as np\n",
    "import multiprocessing\n",
    "onlyfiles = [f for f in listdir(os.getcwd()) if isfile(join(os.getcwd(), f))]"
   ]
  },
  {
   "cell_type": "code",
   "execution_count": 2,
   "metadata": {
    "collapsed": true
   },
   "outputs": [],
   "source": [
    "def reader_fos(fileName):\n",
    "    df = pandas.read_json(fileName, lines=True)\n",
    "    fos_authors_and_year = df[[\"id\", \"title\", \"year\", \"authors\", \"fos\", \"references\"]]\n",
    "    return fos_authors_and_year"
   ]
  },
  {
   "cell_type": "code",
   "execution_count": 3,
   "metadata": {
    "collapsed": true
   },
   "outputs": [],
   "source": [
    "dblp_part_regex = re.compile(\"author_indexed_fos*\")\n",
    "part_files_filter_obj = filter(lambda file_name: dblp_part_regex.match(file_name), onlyfiles)\n",
    "part_files = list(part_files_filter_obj)"
   ]
  },
  {
   "cell_type": "code",
   "execution_count": 4,
   "metadata": {
    "collapsed": true
   },
   "outputs": [],
   "source": [
    "list_of_dataframes = list(map(reader_fos, part_files))\n",
    "df = pandas.concat(list_of_dataframes, ignore_index=True)"
   ]
  },
  {
   "cell_type": "code",
   "execution_count": 37,
   "metadata": {},
   "outputs": [
    {
     "data": {
      "text/html": [
       "<div>\n",
       "<style scoped>\n",
       "    .dataframe tbody tr th:only-of-type {\n",
       "        vertical-align: middle;\n",
       "    }\n",
       "\n",
       "    .dataframe tbody tr th {\n",
       "        vertical-align: top;\n",
       "    }\n",
       "\n",
       "    .dataframe thead th {\n",
       "        text-align: right;\n",
       "    }\n",
       "</style>\n",
       "<table border=\"1\" class=\"dataframe\">\n",
       "  <thead>\n",
       "    <tr style=\"text-align: right;\">\n",
       "      <th></th>\n",
       "      <th>id</th>\n",
       "      <th>title</th>\n",
       "      <th>year</th>\n",
       "      <th>authors</th>\n",
       "      <th>fos</th>\n",
       "      <th>references</th>\n",
       "    </tr>\n",
       "  </thead>\n",
       "  <tbody>\n",
       "    <tr>\n",
       "      <th>5</th>\n",
       "      <td>1965664720</td>\n",
       "      <td>A low power wireless sensor node with vibratio...</td>\n",
       "      <td>2014.0</td>\n",
       "      <td>[{'index': 2247601}, {'index': 1264008}, {'ind...</td>\n",
       "      <td>[{'name': '104', 'w': 0.0}, {'name': '649', 'w...</td>\n",
       "      <td>[1510600213, 2170239483]</td>\n",
       "    </tr>\n",
       "    <tr>\n",
       "      <th>6</th>\n",
       "      <td>1965664774</td>\n",
       "      <td>Shortest Paths Based Web Service Selection in ...</td>\n",
       "      <td>2014.0</td>\n",
       "      <td>[{'index': 2247603}, {'index': 2247604}]</td>\n",
       "      <td>[{'name': '2716', 'w': 0.5306294}, {'name': '2...</td>\n",
       "      <td>[1479916289, 1560267311, 2002838096, 200757299...</td>\n",
       "    </tr>\n",
       "    <tr>\n",
       "      <th>20</th>\n",
       "      <td>1965666279</td>\n",
       "      <td>Implementing Linguistic Landscape investigatio...</td>\n",
       "      <td>2014.0</td>\n",
       "      <td>[{'index': 2247613}]</td>\n",
       "      <td>[{'name': '6531', 'w': 0.532050133}, {'name': ...</td>\n",
       "      <td>[1972366573]</td>\n",
       "    </tr>\n",
       "    <tr>\n",
       "      <th>21</th>\n",
       "      <td>1965666524</td>\n",
       "      <td>Video object segmentation with shape cue based...</td>\n",
       "      <td>2014.0</td>\n",
       "      <td>[{'index': 125253}, {'index': 18704}, {'index'...</td>\n",
       "      <td>[{'name': '128', 'w': 0.44799903}, {'name': '1...</td>\n",
       "      <td>[1496571393, 1518641734, 1555385401, 197586267...</td>\n",
       "    </tr>\n",
       "    <tr>\n",
       "      <th>24</th>\n",
       "      <td>1965666690</td>\n",
       "      <td>Simple passive valves for addressable pneumati...</td>\n",
       "      <td>2014.0</td>\n",
       "      <td>[{'index': 98512}, {'index': 2247616}, {'index...</td>\n",
       "      <td>[{'name': '4', 'w': 0.3417303}, {'name': '5027...</td>\n",
       "      <td>[2003653926, 2124540383, 2137560758]</td>\n",
       "    </tr>\n",
       "    <tr>\n",
       "      <th>...</th>\n",
       "      <td>...</td>\n",
       "      <td>...</td>\n",
       "      <td>...</td>\n",
       "      <td>...</td>\n",
       "      <td>...</td>\n",
       "      <td>...</td>\n",
       "    </tr>\n",
       "    <tr>\n",
       "      <th>4074399</th>\n",
       "      <td>2026772789</td>\n",
       "      <td>Joint optimization over sensing time and power...</td>\n",
       "      <td>2014.0</td>\n",
       "      <td>[{'index': 875433}, {'index': 875434}, {'index...</td>\n",
       "      <td>[{'name': '3938', 'w': 0.4178568}, {'name': '3...</td>\n",
       "      <td>[2003022495, 2065321019, 2069292411, 207972966...</td>\n",
       "    </tr>\n",
       "    <tr>\n",
       "      <th>4074403</th>\n",
       "      <td>2026773017</td>\n",
       "      <td>Top-N Recommendation with Missing Implicit Fee...</td>\n",
       "      <td>2015.0</td>\n",
       "      <td>[{'index': 875435}, {'index': 39414}, {'index'...</td>\n",
       "      <td>[{'name': '1300', 'w': 0.439114928}, {'name': ...</td>\n",
       "      <td>[1992665562, 1999956270, 2020631728, 204574560...</td>\n",
       "    </tr>\n",
       "    <tr>\n",
       "      <th>4074408</th>\n",
       "      <td>2026774140</td>\n",
       "      <td>Clock-controlled generators with large period ...</td>\n",
       "      <td>2014.0</td>\n",
       "      <td>[{'index': 875445}]</td>\n",
       "      <td>[{'name': '9734', 'w': 0.67059}, {'name': '4',...</td>\n",
       "      <td>[111312581, 1572199847, 1584542188, 1755066991...</td>\n",
       "    </tr>\n",
       "    <tr>\n",
       "      <th>4074418</th>\n",
       "      <td>2026775156</td>\n",
       "      <td>THE DOMINATION NUMBER OF STRONG PRODUCT OF DIR...</td>\n",
       "      <td>2014.0</td>\n",
       "      <td>[{'index': 875454}, {'index': 875455}, {'index...</td>\n",
       "      <td>[{'name': '4370', 'w': 0.505299747}, {'name': ...</td>\n",
       "      <td>[1963704255, 1993642211, 1994365837, 202378287...</td>\n",
       "    </tr>\n",
       "    <tr>\n",
       "      <th>4074424</th>\n",
       "      <td>2026775511</td>\n",
       "      <td>Bridging boolean and quantitative synthesis us...</td>\n",
       "      <td>2014.0</td>\n",
       "      <td>[{'index': 107666}, {'index': 875472}, {'index...</td>\n",
       "      <td>[{'name': '1797', 'w': 0.5759903}, {'name': '1...</td>\n",
       "      <td>[88990729, 1490985464, 1510918931, 1527924265,...</td>\n",
       "    </tr>\n",
       "  </tbody>\n",
       "</table>\n",
       "<p>1068923 rows × 6 columns</p>\n",
       "</div>"
      ],
      "text/plain": [
       "                 id                                              title  \\\n",
       "5        1965664720  A low power wireless sensor node with vibratio...   \n",
       "6        1965664774  Shortest Paths Based Web Service Selection in ...   \n",
       "20       1965666279  Implementing Linguistic Landscape investigatio...   \n",
       "21       1965666524  Video object segmentation with shape cue based...   \n",
       "24       1965666690  Simple passive valves for addressable pneumati...   \n",
       "...             ...                                                ...   \n",
       "4074399  2026772789  Joint optimization over sensing time and power...   \n",
       "4074403  2026773017  Top-N Recommendation with Missing Implicit Fee...   \n",
       "4074408  2026774140  Clock-controlled generators with large period ...   \n",
       "4074418  2026775156  THE DOMINATION NUMBER OF STRONG PRODUCT OF DIR...   \n",
       "4074424  2026775511  Bridging boolean and quantitative synthesis us...   \n",
       "\n",
       "           year                                            authors  \\\n",
       "5        2014.0  [{'index': 2247601}, {'index': 1264008}, {'ind...   \n",
       "6        2014.0           [{'index': 2247603}, {'index': 2247604}]   \n",
       "20       2014.0                               [{'index': 2247613}]   \n",
       "21       2014.0  [{'index': 125253}, {'index': 18704}, {'index'...   \n",
       "24       2014.0  [{'index': 98512}, {'index': 2247616}, {'index...   \n",
       "...         ...                                                ...   \n",
       "4074399  2014.0  [{'index': 875433}, {'index': 875434}, {'index...   \n",
       "4074403  2015.0  [{'index': 875435}, {'index': 39414}, {'index'...   \n",
       "4074408  2014.0                                [{'index': 875445}]   \n",
       "4074418  2014.0  [{'index': 875454}, {'index': 875455}, {'index...   \n",
       "4074424  2014.0  [{'index': 107666}, {'index': 875472}, {'index...   \n",
       "\n",
       "                                                       fos  \\\n",
       "5        [{'name': '104', 'w': 0.0}, {'name': '649', 'w...   \n",
       "6        [{'name': '2716', 'w': 0.5306294}, {'name': '2...   \n",
       "20       [{'name': '6531', 'w': 0.532050133}, {'name': ...   \n",
       "21       [{'name': '128', 'w': 0.44799903}, {'name': '1...   \n",
       "24       [{'name': '4', 'w': 0.3417303}, {'name': '5027...   \n",
       "...                                                    ...   \n",
       "4074399  [{'name': '3938', 'w': 0.4178568}, {'name': '3...   \n",
       "4074403  [{'name': '1300', 'w': 0.439114928}, {'name': ...   \n",
       "4074408  [{'name': '9734', 'w': 0.67059}, {'name': '4',...   \n",
       "4074418  [{'name': '4370', 'w': 0.505299747}, {'name': ...   \n",
       "4074424  [{'name': '1797', 'w': 0.5759903}, {'name': '1...   \n",
       "\n",
       "                                                references  \n",
       "5                                 [1510600213, 2170239483]  \n",
       "6        [1479916289, 1560267311, 2002838096, 200757299...  \n",
       "20                                            [1972366573]  \n",
       "21       [1496571393, 1518641734, 1555385401, 197586267...  \n",
       "24                    [2003653926, 2124540383, 2137560758]  \n",
       "...                                                    ...  \n",
       "4074399  [2003022495, 2065321019, 2069292411, 207972966...  \n",
       "4074403  [1992665562, 1999956270, 2020631728, 204574560...  \n",
       "4074408  [111312581, 1572199847, 1584542188, 1755066991...  \n",
       "4074418  [1963704255, 1993642211, 1994365837, 202378287...  \n",
       "4074424  [88990729, 1490985464, 1510918931, 1527924265,...  \n",
       "\n",
       "[1068923 rows x 6 columns]"
      ]
     },
     "execution_count": 37,
     "metadata": {},
     "output_type": "execute_result"
    }
   ],
   "source": [
    "filtered_years = df.loc[df[\"year\"] > 2013]\n",
    "filtered_years = filtered_years.loc[df[\"year\"] < 2018]\n",
    "filtered_years"
   ]
  },
  {
   "cell_type": "code",
   "execution_count": 39,
   "metadata": {},
   "outputs": [
    {
     "data": {
      "text/plain": [
       "1068923"
      ]
     },
     "execution_count": 39,
     "metadata": {},
     "output_type": "execute_result"
    }
   ],
   "source": [
    "len(filtered_years)"
   ]
  },
  {
   "cell_type": "code",
   "execution_count": 40,
   "metadata": {
    "collapsed": true
   },
   "outputs": [],
   "source": [
    "def get_authors_ids(references_list):\n",
    "    authors = []\n",
    "    if not isinstance(references_list, list) and pandas.isna(references_list):\n",
    "        return []\n",
    "    for reference_id in references_list:\n",
    "        reference_authors = list(df.loc[df[\"id\"] == int(reference_id)][\"authors\"])\n",
    "        if len(reference_authors):\n",
    "            authors.extend(list(map(lambda x: x[\"index\"], reference_authors[0])))\n",
    "    return list(set(authors))"
   ]
  },
  {
   "cell_type": "code",
   "execution_count": 41,
   "metadata": {
    "collapsed": true
   },
   "outputs": [],
   "source": [
    "classes = pandas.read_csv(\"classes_fos.csv\", index_col=0)\n",
    "agent_systems_class = classes.loc[classes[\"modularity_class\"] == 20]"
   ]
  },
  {
   "cell_type": "code",
   "execution_count": 42,
   "metadata": {},
   "outputs": [
    {
     "data": {
      "text/plain": [
       "array([1048,  499, 1287, 1756, 1180])"
      ]
     },
     "execution_count": 42,
     "metadata": {},
     "output_type": "execute_result"
    }
   ],
   "source": [
    "agent_systems_class[\"Id\"].values"
   ]
  },
  {
   "cell_type": "code",
   "execution_count": 43,
   "metadata": {
    "collapsed": true
   },
   "outputs": [],
   "source": [
    "def common_member(list_a, list_b):\n",
    "    a_set = set(list_a)\n",
    "    b_set = set(list_b)\n",
    "    return len(a_set & b_set) > 0"
   ]
  },
  {
   "cell_type": "code",
   "execution_count": 44,
   "metadata": {},
   "outputs": [
    {
     "data": {
      "text/html": [
       "<div>\n",
       "<style scoped>\n",
       "    .dataframe tbody tr th:only-of-type {\n",
       "        vertical-align: middle;\n",
       "    }\n",
       "\n",
       "    .dataframe tbody tr th {\n",
       "        vertical-align: top;\n",
       "    }\n",
       "\n",
       "    .dataframe thead th {\n",
       "        text-align: right;\n",
       "    }\n",
       "</style>\n",
       "<table border=\"1\" class=\"dataframe\">\n",
       "  <thead>\n",
       "    <tr style=\"text-align: right;\">\n",
       "      <th></th>\n",
       "      <th>id</th>\n",
       "      <th>title</th>\n",
       "      <th>year</th>\n",
       "      <th>authors</th>\n",
       "      <th>fos</th>\n",
       "      <th>references</th>\n",
       "    </tr>\n",
       "  </thead>\n",
       "  <tbody>\n",
       "    <tr>\n",
       "      <th>5</th>\n",
       "      <td>1965664720</td>\n",
       "      <td>A low power wireless sensor node with vibratio...</td>\n",
       "      <td>2014.0</td>\n",
       "      <td>[{'index': 2247601}, {'index': 1264008}, {'ind...</td>\n",
       "      <td>[{'name': '104', 'w': 0.0}, {'name': '649', 'w...</td>\n",
       "      <td>[1510600213, 2170239483]</td>\n",
       "    </tr>\n",
       "    <tr>\n",
       "      <th>6</th>\n",
       "      <td>1965664774</td>\n",
       "      <td>Shortest Paths Based Web Service Selection in ...</td>\n",
       "      <td>2014.0</td>\n",
       "      <td>[{'index': 2247603}, {'index': 2247604}]</td>\n",
       "      <td>[{'name': '2716', 'w': 0.5306294}, {'name': '2...</td>\n",
       "      <td>[1479916289, 1560267311, 2002838096, 200757299...</td>\n",
       "    </tr>\n",
       "    <tr>\n",
       "      <th>20</th>\n",
       "      <td>1965666279</td>\n",
       "      <td>Implementing Linguistic Landscape investigatio...</td>\n",
       "      <td>2014.0</td>\n",
       "      <td>[{'index': 2247613}]</td>\n",
       "      <td>[{'name': '6531', 'w': 0.532050133}, {'name': ...</td>\n",
       "      <td>[1972366573]</td>\n",
       "    </tr>\n",
       "    <tr>\n",
       "      <th>21</th>\n",
       "      <td>1965666524</td>\n",
       "      <td>Video object segmentation with shape cue based...</td>\n",
       "      <td>2014.0</td>\n",
       "      <td>[{'index': 125253}, {'index': 18704}, {'index'...</td>\n",
       "      <td>[{'name': '128', 'w': 0.44799903}, {'name': '1...</td>\n",
       "      <td>[1496571393, 1518641734, 1555385401, 197586267...</td>\n",
       "    </tr>\n",
       "    <tr>\n",
       "      <th>24</th>\n",
       "      <td>1965666690</td>\n",
       "      <td>Simple passive valves for addressable pneumati...</td>\n",
       "      <td>2014.0</td>\n",
       "      <td>[{'index': 98512}, {'index': 2247616}, {'index...</td>\n",
       "      <td>[{'name': '4', 'w': 0.3417303}, {'name': '5027...</td>\n",
       "      <td>[2003653926, 2124540383, 2137560758]</td>\n",
       "    </tr>\n",
       "    <tr>\n",
       "      <th>...</th>\n",
       "      <td>...</td>\n",
       "      <td>...</td>\n",
       "      <td>...</td>\n",
       "      <td>...</td>\n",
       "      <td>...</td>\n",
       "      <td>...</td>\n",
       "    </tr>\n",
       "    <tr>\n",
       "      <th>4074399</th>\n",
       "      <td>2026772789</td>\n",
       "      <td>Joint optimization over sensing time and power...</td>\n",
       "      <td>2014.0</td>\n",
       "      <td>[{'index': 875433}, {'index': 875434}, {'index...</td>\n",
       "      <td>[{'name': '3938', 'w': 0.4178568}, {'name': '3...</td>\n",
       "      <td>[2003022495, 2065321019, 2069292411, 207972966...</td>\n",
       "    </tr>\n",
       "    <tr>\n",
       "      <th>4074403</th>\n",
       "      <td>2026773017</td>\n",
       "      <td>Top-N Recommendation with Missing Implicit Fee...</td>\n",
       "      <td>2015.0</td>\n",
       "      <td>[{'index': 875435}, {'index': 39414}, {'index'...</td>\n",
       "      <td>[{'name': '1300', 'w': 0.439114928}, {'name': ...</td>\n",
       "      <td>[1992665562, 1999956270, 2020631728, 204574560...</td>\n",
       "    </tr>\n",
       "    <tr>\n",
       "      <th>4074408</th>\n",
       "      <td>2026774140</td>\n",
       "      <td>Clock-controlled generators with large period ...</td>\n",
       "      <td>2014.0</td>\n",
       "      <td>[{'index': 875445}]</td>\n",
       "      <td>[{'name': '9734', 'w': 0.67059}, {'name': '4',...</td>\n",
       "      <td>[111312581, 1572199847, 1584542188, 1755066991...</td>\n",
       "    </tr>\n",
       "    <tr>\n",
       "      <th>4074418</th>\n",
       "      <td>2026775156</td>\n",
       "      <td>THE DOMINATION NUMBER OF STRONG PRODUCT OF DIR...</td>\n",
       "      <td>2014.0</td>\n",
       "      <td>[{'index': 875454}, {'index': 875455}, {'index...</td>\n",
       "      <td>[{'name': '4370', 'w': 0.505299747}, {'name': ...</td>\n",
       "      <td>[1963704255, 1993642211, 1994365837, 202378287...</td>\n",
       "    </tr>\n",
       "    <tr>\n",
       "      <th>4074424</th>\n",
       "      <td>2026775511</td>\n",
       "      <td>Bridging boolean and quantitative synthesis us...</td>\n",
       "      <td>2014.0</td>\n",
       "      <td>[{'index': 107666}, {'index': 875472}, {'index...</td>\n",
       "      <td>[{'name': '1797', 'w': 0.5759903}, {'name': '1...</td>\n",
       "      <td>[88990729, 1490985464, 1510918931, 1527924265,...</td>\n",
       "    </tr>\n",
       "  </tbody>\n",
       "</table>\n",
       "<p>1068923 rows × 6 columns</p>\n",
       "</div>"
      ],
      "text/plain": [
       "                 id                                              title  \\\n",
       "5        1965664720  A low power wireless sensor node with vibratio...   \n",
       "6        1965664774  Shortest Paths Based Web Service Selection in ...   \n",
       "20       1965666279  Implementing Linguistic Landscape investigatio...   \n",
       "21       1965666524  Video object segmentation with shape cue based...   \n",
       "24       1965666690  Simple passive valves for addressable pneumati...   \n",
       "...             ...                                                ...   \n",
       "4074399  2026772789  Joint optimization over sensing time and power...   \n",
       "4074403  2026773017  Top-N Recommendation with Missing Implicit Fee...   \n",
       "4074408  2026774140  Clock-controlled generators with large period ...   \n",
       "4074418  2026775156  THE DOMINATION NUMBER OF STRONG PRODUCT OF DIR...   \n",
       "4074424  2026775511  Bridging boolean and quantitative synthesis us...   \n",
       "\n",
       "           year                                            authors  \\\n",
       "5        2014.0  [{'index': 2247601}, {'index': 1264008}, {'ind...   \n",
       "6        2014.0           [{'index': 2247603}, {'index': 2247604}]   \n",
       "20       2014.0                               [{'index': 2247613}]   \n",
       "21       2014.0  [{'index': 125253}, {'index': 18704}, {'index'...   \n",
       "24       2014.0  [{'index': 98512}, {'index': 2247616}, {'index...   \n",
       "...         ...                                                ...   \n",
       "4074399  2014.0  [{'index': 875433}, {'index': 875434}, {'index...   \n",
       "4074403  2015.0  [{'index': 875435}, {'index': 39414}, {'index'...   \n",
       "4074408  2014.0                                [{'index': 875445}]   \n",
       "4074418  2014.0  [{'index': 875454}, {'index': 875455}, {'index...   \n",
       "4074424  2014.0  [{'index': 107666}, {'index': 875472}, {'index...   \n",
       "\n",
       "                                                       fos  \\\n",
       "5        [{'name': '104', 'w': 0.0}, {'name': '649', 'w...   \n",
       "6        [{'name': '2716', 'w': 0.5306294}, {'name': '2...   \n",
       "20       [{'name': '6531', 'w': 0.532050133}, {'name': ...   \n",
       "21       [{'name': '128', 'w': 0.44799903}, {'name': '1...   \n",
       "24       [{'name': '4', 'w': 0.3417303}, {'name': '5027...   \n",
       "...                                                    ...   \n",
       "4074399  [{'name': '3938', 'w': 0.4178568}, {'name': '3...   \n",
       "4074403  [{'name': '1300', 'w': 0.439114928}, {'name': ...   \n",
       "4074408  [{'name': '9734', 'w': 0.67059}, {'name': '4',...   \n",
       "4074418  [{'name': '4370', 'w': 0.505299747}, {'name': ...   \n",
       "4074424  [{'name': '1797', 'w': 0.5759903}, {'name': '1...   \n",
       "\n",
       "                                                references  \n",
       "5                                 [1510600213, 2170239483]  \n",
       "6        [1479916289, 1560267311, 2002838096, 200757299...  \n",
       "20                                            [1972366573]  \n",
       "21       [1496571393, 1518641734, 1555385401, 197586267...  \n",
       "24                    [2003653926, 2124540383, 2137560758]  \n",
       "...                                                    ...  \n",
       "4074399  [2003022495, 2065321019, 2069292411, 207972966...  \n",
       "4074403  [1992665562, 1999956270, 2020631728, 204574560...  \n",
       "4074408  [111312581, 1572199847, 1584542188, 1755066991...  \n",
       "4074418  [1963704255, 1993642211, 1994365837, 202378287...  \n",
       "4074424  [88990729, 1490985464, 1510918931, 1527924265,...  \n",
       "\n",
       "[1068923 rows x 6 columns]"
      ]
     },
     "execution_count": 44,
     "metadata": {},
     "output_type": "execute_result"
    }
   ],
   "source": [
    "filtered_with_wages = filtered_years.loc[filtered_years[\"fos\"].apply(lambda x: type(x) is not float)]\n",
    "filtered_with_wages"
   ]
  },
  {
   "cell_type": "code",
   "execution_count": 45,
   "metadata": {
    "collapsed": true
   },
   "outputs": [],
   "source": [
    "filtered_slice = filtered_years"
   ]
  },
  {
   "cell_type": "code",
   "execution_count": 46,
   "metadata": {
    "collapsed": true
   },
   "outputs": [],
   "source": [
    "filtered_slice[\"fos\"] = filtered_with_wages[\"fos\"].apply(lambda row: [int(field[\"name\"]) for field in row])"
   ]
  },
  {
   "cell_type": "code",
   "execution_count": 47,
   "metadata": {
    "collapsed": true
   },
   "outputs": [],
   "source": [
    "filtered_slice = filtered_slice.loc[filtered_slice[\"fos\"].apply(lambda foses: common_member(foses, agent_systems_class[\"Id\"].values))]"
   ]
  },
  {
   "cell_type": "code",
   "execution_count": 48,
   "metadata": {},
   "outputs": [
    {
     "data": {
      "text/plain": [
       "6140"
      ]
     },
     "execution_count": 48,
     "metadata": {},
     "output_type": "execute_result"
    }
   ],
   "source": [
    "len(filtered_slice)"
   ]
  },
  {
   "cell_type": "code",
   "execution_count": 49,
   "metadata": {},
   "outputs": [
    {
     "name": "stderr",
     "output_type": "stream",
     "text": [
      "/Users/bartek/anaconda3/lib/python3.6/site-packages/ipykernel_launcher.py:1: SettingWithCopyWarning: \n",
      "A value is trying to be set on a copy of a slice from a DataFrame.\n",
      "Try using .loc[row_indexer,col_indexer] = value instead\n",
      "\n",
      "See the caveats in the documentation: https://pandas.pydata.org/pandas-docs/stable/user_guide/indexing.html#returning-a-view-versus-a-copy\n",
      "  \"\"\"Entry point for launching an IPython kernel.\n"
     ]
    }
   ],
   "source": [
    "filtered_slice[\"author_references\"] = filtered_slice[\"references\"].apply(get_authors_ids)"
   ]
  },
  {
   "cell_type": "code",
   "execution_count": 50,
   "metadata": {},
   "outputs": [
    {
     "data": {
      "text/html": [
       "<div>\n",
       "<style scoped>\n",
       "    .dataframe tbody tr th:only-of-type {\n",
       "        vertical-align: middle;\n",
       "    }\n",
       "\n",
       "    .dataframe tbody tr th {\n",
       "        vertical-align: top;\n",
       "    }\n",
       "\n",
       "    .dataframe thead th {\n",
       "        text-align: right;\n",
       "    }\n",
       "</style>\n",
       "<table border=\"1\" class=\"dataframe\">\n",
       "  <thead>\n",
       "    <tr style=\"text-align: right;\">\n",
       "      <th></th>\n",
       "      <th>id</th>\n",
       "      <th>title</th>\n",
       "      <th>year</th>\n",
       "      <th>authors</th>\n",
       "      <th>fos</th>\n",
       "      <th>references</th>\n",
       "      <th>author_references</th>\n",
       "    </tr>\n",
       "  </thead>\n",
       "  <tbody>\n",
       "    <tr>\n",
       "      <th>447</th>\n",
       "      <td>1965709183</td>\n",
       "      <td>Second-order group consensus for multi-agent s...</td>\n",
       "      <td>2015.0</td>\n",
       "      <td>[{'index': 2247908}, {'index': 2247908}, {'ind...</td>\n",
       "      <td>[165, 6972, 42, 233, 499, 932, 935, 47]</td>\n",
       "      <td>[1966811233, 1974954027, 1985131825, 198543133...</td>\n",
       "      <td>[1666310, 2496519, 193670, 193671, 126346, 224...</td>\n",
       "    </tr>\n",
       "    <tr>\n",
       "      <th>2289</th>\n",
       "      <td>1965895579</td>\n",
       "      <td>Developing pervasive multi-agent systems with ...</td>\n",
       "      <td>2015.0</td>\n",
       "      <td>[{'index': 30244}, {'index': 119883}, {'index'...</td>\n",
       "      <td>[440, 832, 4, 9272, 499, 833, 98, 1040, 3119, ...</td>\n",
       "      <td>[177169120, 198779116, 1458724087, 1487384767,...</td>\n",
       "      <td>[337409, 262660, 262661, 214540, 17422, 218640...</td>\n",
       "    </tr>\n",
       "    <tr>\n",
       "      <th>2324</th>\n",
       "      <td>1965899411</td>\n",
       "      <td>Distributed tracking control of second-order m...</td>\n",
       "      <td>2014.0</td>\n",
       "      <td>[{'index': 2249312}, {'index': 2249312}, {'ind...</td>\n",
       "      <td>[233, 499, 934, 47, 651]</td>\n",
       "      <td>[1981685742, 1982439975, 2007403280, 202665649...</td>\n",
       "      <td>[27013, 849158, 193670, 888710, 50568, 193671,...</td>\n",
       "    </tr>\n",
       "    <tr>\n",
       "      <th>2707</th>\n",
       "      <td>1965939249</td>\n",
       "      <td>Consensus tracking of linear multi-agent syste...</td>\n",
       "      <td>2014.0</td>\n",
       "      <td>[{'index': 2249570}, {'index': 269792}, {'inde...</td>\n",
       "      <td>[1851, 2967, 233, 47, 543, 499, 98, 484]</td>\n",
       "      <td>[1904869745, 1973963158, 1977418125, 198465187...</td>\n",
       "      <td>[823040, 3971, 40710, 193671, 267655, 2496519,...</td>\n",
       "    </tr>\n",
       "    <tr>\n",
       "      <th>4343</th>\n",
       "      <td>1966107190</td>\n",
       "      <td>A situation-aware system for the detection of ...</td>\n",
       "      <td>2014.0</td>\n",
       "      <td>[{'index': 25561}, {'index': 378331}, {'index'...</td>\n",
       "      <td>[104, 28092, 132, 13562, 1048, 36868, 6919, 4]</td>\n",
       "      <td>[130306558, 1655636376, 1974588631, 1979504468...</td>\n",
       "      <td>[35848, 122248, 118672, 87443, 169620, 55321, ...</td>\n",
       "    </tr>\n",
       "    <tr>\n",
       "      <th>...</th>\n",
       "      <td>...</td>\n",
       "      <td>...</td>\n",
       "      <td>...</td>\n",
       "      <td>...</td>\n",
       "      <td>...</td>\n",
       "      <td>...</td>\n",
       "      <td>...</td>\n",
       "    </tr>\n",
       "    <tr>\n",
       "      <th>4070876</th>\n",
       "      <td>2026434208</td>\n",
       "      <td>Continuum evolution of multi agent systems und...</td>\n",
       "      <td>2014.0</td>\n",
       "      <td>[{'index': 111395}, {'index': 850862}]</td>\n",
       "      <td>[233, 849, 90, 3486, 392, 4, 1141, 499, 96]</td>\n",
       "      <td>[1482619501, 2041951223, 2070224219, 210801176...</td>\n",
       "      <td>[111395, 1203015, 866440, 850862, 50254, 13029...</td>\n",
       "    </tr>\n",
       "    <tr>\n",
       "      <th>4071408</th>\n",
       "      <td>2026485182</td>\n",
       "      <td>Passing a Hide-and-Seek Third-Person Turing Test</td>\n",
       "      <td>2014.0</td>\n",
       "      <td>[{'index': 871808}, {'index': 169007}, {'index...</td>\n",
       "      <td>[27, 13019, 132, 4, 1287, 499, 286, 104]</td>\n",
       "      <td>[96574868, 1867465928, 1968909098, 1969483458,...</td>\n",
       "      <td>[871808, 871809, 3424003, 993286, 69650, 13003...</td>\n",
       "    </tr>\n",
       "    <tr>\n",
       "      <th>4071469</th>\n",
       "      <td>2026489587</td>\n",
       "      <td>Sliding mode control for multi-agent systems u...</td>\n",
       "      <td>2016.0</td>\n",
       "      <td>[{'index': 871882}, {'index': 871883}, {'index...</td>\n",
       "      <td>[7099, 233, 42, 931, 590, 1090, 47, 499, 396, ...</td>\n",
       "      <td>[1982617281, 1988372689, 2012562254, 204431900...</td>\n",
       "      <td>[3414152, 22410, 22412, 995349, 22174, 998816,...</td>\n",
       "    </tr>\n",
       "    <tr>\n",
       "      <th>4073184</th>\n",
       "      <td>2026654865</td>\n",
       "      <td>Algorithmic Renormalization for Network Dynamics</td>\n",
       "      <td>2015.0</td>\n",
       "      <td>[{'index': 249078}]</td>\n",
       "      <td>[110, 91, 42, 15541, 729, 543, 88, 499, 11926,...</td>\n",
       "      <td>[1756760847, 1910515323, 1997672043, 202142992...</td>\n",
       "      <td>[27012, 27013, 76937, 849933, 25234, 124564, 7...</td>\n",
       "    </tr>\n",
       "    <tr>\n",
       "      <th>4073662</th>\n",
       "      <td>2026701147</td>\n",
       "      <td>Quantised consensus of multi-agent systems wit...</td>\n",
       "      <td>2015.0</td>\n",
       "      <td>[{'index': 296652}, {'index': 296651}, {'index...</td>\n",
       "      <td>[42, 1088, 233, 12669, 396, 47, 499, 935]</td>\n",
       "      <td>[1982947074, 1991360560, 1996032233, 199910691...</td>\n",
       "      <td>[454273, 2496519, 50568, 44039, 1104010, 37004...</td>\n",
       "    </tr>\n",
       "  </tbody>\n",
       "</table>\n",
       "<p>6140 rows × 7 columns</p>\n",
       "</div>"
      ],
      "text/plain": [
       "                 id                                              title  \\\n",
       "447      1965709183  Second-order group consensus for multi-agent s...   \n",
       "2289     1965895579  Developing pervasive multi-agent systems with ...   \n",
       "2324     1965899411  Distributed tracking control of second-order m...   \n",
       "2707     1965939249  Consensus tracking of linear multi-agent syste...   \n",
       "4343     1966107190  A situation-aware system for the detection of ...   \n",
       "...             ...                                                ...   \n",
       "4070876  2026434208  Continuum evolution of multi agent systems und...   \n",
       "4071408  2026485182   Passing a Hide-and-Seek Third-Person Turing Test   \n",
       "4071469  2026489587  Sliding mode control for multi-agent systems u...   \n",
       "4073184  2026654865   Algorithmic Renormalization for Network Dynamics   \n",
       "4073662  2026701147  Quantised consensus of multi-agent systems wit...   \n",
       "\n",
       "           year                                            authors  \\\n",
       "447      2015.0  [{'index': 2247908}, {'index': 2247908}, {'ind...   \n",
       "2289     2015.0  [{'index': 30244}, {'index': 119883}, {'index'...   \n",
       "2324     2014.0  [{'index': 2249312}, {'index': 2249312}, {'ind...   \n",
       "2707     2014.0  [{'index': 2249570}, {'index': 269792}, {'inde...   \n",
       "4343     2014.0  [{'index': 25561}, {'index': 378331}, {'index'...   \n",
       "...         ...                                                ...   \n",
       "4070876  2014.0             [{'index': 111395}, {'index': 850862}]   \n",
       "4071408  2014.0  [{'index': 871808}, {'index': 169007}, {'index...   \n",
       "4071469  2016.0  [{'index': 871882}, {'index': 871883}, {'index...   \n",
       "4073184  2015.0                                [{'index': 249078}]   \n",
       "4073662  2015.0  [{'index': 296652}, {'index': 296651}, {'index...   \n",
       "\n",
       "                                                       fos  \\\n",
       "447                [165, 6972, 42, 233, 499, 932, 935, 47]   \n",
       "2289     [440, 832, 4, 9272, 499, 833, 98, 1040, 3119, ...   \n",
       "2324                              [233, 499, 934, 47, 651]   \n",
       "2707              [1851, 2967, 233, 47, 543, 499, 98, 484]   \n",
       "4343        [104, 28092, 132, 13562, 1048, 36868, 6919, 4]   \n",
       "...                                                    ...   \n",
       "4070876        [233, 849, 90, 3486, 392, 4, 1141, 499, 96]   \n",
       "4071408           [27, 13019, 132, 4, 1287, 499, 286, 104]   \n",
       "4071469  [7099, 233, 42, 931, 590, 1090, 47, 499, 396, ...   \n",
       "4073184  [110, 91, 42, 15541, 729, 543, 88, 499, 11926,...   \n",
       "4073662          [42, 1088, 233, 12669, 396, 47, 499, 935]   \n",
       "\n",
       "                                                references  \\\n",
       "447      [1966811233, 1974954027, 1985131825, 198543133...   \n",
       "2289     [177169120, 198779116, 1458724087, 1487384767,...   \n",
       "2324     [1981685742, 1982439975, 2007403280, 202665649...   \n",
       "2707     [1904869745, 1973963158, 1977418125, 198465187...   \n",
       "4343     [130306558, 1655636376, 1974588631, 1979504468...   \n",
       "...                                                    ...   \n",
       "4070876  [1482619501, 2041951223, 2070224219, 210801176...   \n",
       "4071408  [96574868, 1867465928, 1968909098, 1969483458,...   \n",
       "4071469  [1982617281, 1988372689, 2012562254, 204431900...   \n",
       "4073184  [1756760847, 1910515323, 1997672043, 202142992...   \n",
       "4073662  [1982947074, 1991360560, 1996032233, 199910691...   \n",
       "\n",
       "                                         author_references  \n",
       "447      [1666310, 2496519, 193670, 193671, 126346, 224...  \n",
       "2289     [337409, 262660, 262661, 214540, 17422, 218640...  \n",
       "2324     [27013, 849158, 193670, 888710, 50568, 193671,...  \n",
       "2707     [823040, 3971, 40710, 193671, 267655, 2496519,...  \n",
       "4343     [35848, 122248, 118672, 87443, 169620, 55321, ...  \n",
       "...                                                    ...  \n",
       "4070876  [111395, 1203015, 866440, 850862, 50254, 13029...  \n",
       "4071408  [871808, 871809, 3424003, 993286, 69650, 13003...  \n",
       "4071469  [3414152, 22410, 22412, 995349, 22174, 998816,...  \n",
       "4073184  [27012, 27013, 76937, 849933, 25234, 124564, 7...  \n",
       "4073662  [454273, 2496519, 50568, 44039, 1104010, 37004...  \n",
       "\n",
       "[6140 rows x 7 columns]"
      ]
     },
     "execution_count": 50,
     "metadata": {},
     "output_type": "execute_result"
    }
   ],
   "source": [
    "filtered_slice"
   ]
  },
  {
   "cell_type": "code",
   "execution_count": 51,
   "metadata": {
    "collapsed": true
   },
   "outputs": [],
   "source": [
    "from networkx.algorithms.community.kclique import k_clique_communities"
   ]
  },
  {
   "cell_type": "code",
   "execution_count": 52,
   "metadata": {},
   "outputs": [
    {
     "data": {
      "text/plain": [
       "447        None\n",
       "2289       None\n",
       "2324       None\n",
       "2707       None\n",
       "4343       None\n",
       "           ... \n",
       "4070876    None\n",
       "4071408    None\n",
       "4071469    None\n",
       "4073184    None\n",
       "4073662    None\n",
       "Length: 6140, dtype: object"
      ]
     },
     "execution_count": 52,
     "metadata": {},
     "output_type": "execute_result"
    }
   ],
   "source": [
    "citation_dict = {}\n",
    "def fill_graph(row, graph):\n",
    "    authors = list(row[\"authors\"])\n",
    "    references_authors = list(row[\"author_references\"])\n",
    "    for author in list(authors):\n",
    "        for refrence_author in references_authors:\n",
    "            edge_name = str(author[\"index\"]) + \"_\" + str(refrence_author)\n",
    "            weight = graph.get(edge_name, 0)\n",
    "            graph[edge_name] = weight + 1\n",
    "            \n",
    "filtered_slice.apply(lambda row: fill_graph(row, citation_dict), axis=1)"
   ]
  },
  {
   "cell_type": "code",
   "execution_count": 53,
   "metadata": {},
   "outputs": [
    {
     "data": {
      "text/plain": [
       "<networkx.classes.digraph.DiGraph at 0x61ed80e10>"
      ]
     },
     "execution_count": 53,
     "metadata": {},
     "output_type": "execute_result"
    }
   ],
   "source": [
    "import networkx\n",
    "citation_graph = networkx.DiGraph()\n",
    "for edge in citation_dict.keys():\n",
    "    nodes = edge.split(\"_\")\n",
    "    node_x = int(nodes[0])\n",
    "    node_y = int(nodes[1])\n",
    "    weight = int(citation_dict[edge])\n",
    "    citation_graph.add_edge(node_x, node_y, weight = weight)\n",
    "citation_graph"
   ]
  },
  {
   "cell_type": "code",
   "execution_count": 54,
   "metadata": {},
   "outputs": [
    {
     "data": {
      "text/plain": [
       "625317"
      ]
     },
     "execution_count": 54,
     "metadata": {},
     "output_type": "execute_result"
    }
   ],
   "source": [
    "citation_graph.number_of_edges()"
   ]
  },
  {
   "cell_type": "code",
   "execution_count": 154,
   "metadata": {
    "collapsed": true
   },
   "outputs": [],
   "source": [
    "networkx.write_gexf(citation_graph,\"citation_graph_for_agent_systems.gexf\")"
   ]
  },
  {
   "cell_type": "code",
   "execution_count": 55,
   "metadata": {
    "collapsed": true
   },
   "outputs": [],
   "source": [
    "def are_bidirectional_neighbors(a, b, g):\n",
    "    return a in g.neighbors(b)"
   ]
  },
  {
   "cell_type": "code",
   "execution_count": 103,
   "metadata": {
    "collapsed": true
   },
   "outputs": [],
   "source": [
    "def get_bidirectional_nodes(graph):\n",
    "    bidirectional_nodes = {}\n",
    "    for element, adjacency in graph.adjacency():\n",
    "        b_neighbors = set(map(lambda x: x[0], list(adjacency.items())))\n",
    "        for neighbor in b_neighbors:\n",
    "            if are_bidirectional_neighbors(element, neighbor, graph):\n",
    "                element_bidirectional_neighbours = bidirectional_nodes.get(element, [])\n",
    "                element_bidirectional_neighbours.append(neighbor)\n",
    "                bidirectional_nodes[element] = element_bidirectional_neighbours\n",
    "    return bidirectional_nodes\n",
    "bidirectional_nodes = get_bidirectional_nodes(citation_graph)"
   ]
  },
  {
   "cell_type": "code",
   "execution_count": 104,
   "metadata": {
    "collapsed": true
   },
   "outputs": [],
   "source": [
    "sorted_bidirectional_nodes = [(k,v) for k, v in sorted(bidirectional_nodes.items(), key=lambda item: len(item[1]), reverse=True)]"
   ]
  },
  {
   "cell_type": "code",
   "execution_count": 105,
   "metadata": {},
   "outputs": [
    {
     "data": {
      "text/plain": [
       "5345"
      ]
     },
     "execution_count": 105,
     "metadata": {},
     "output_type": "execute_result"
    }
   ],
   "source": [
    "len(sorted_bidirectional_nodes)"
   ]
  },
  {
   "cell_type": "code",
   "execution_count": 59,
   "metadata": {
    "collapsed": true
   },
   "outputs": [],
   "source": [
    "top_bidirectional_nodes = []\n",
    "for element, bidirectional_neighbors in sorted_bidirectional_nodes[:20]:\n",
    "    top_bidirectional_nodes.append((element, len(bidirectional_neighbors)))"
   ]
  },
  {
   "cell_type": "code",
   "execution_count": 27,
   "metadata": {},
   "outputs": [
    {
     "ename": "TypeError",
     "evalue": "<lambda>() got an unexpected keyword argument 'axis'",
     "output_type": "error",
     "traceback": [
      "\u001b[0;31m---------------------------------------------------------------------------\u001b[0m",
      "\u001b[0;31mTypeError\u001b[0m                                 Traceback (most recent call last)",
      "\u001b[0;32m<ipython-input-27-41b7a52d28c3>\u001b[0m in \u001b[0;36m<module>\u001b[0;34m()\u001b[0m\n\u001b[1;32m      8\u001b[0m             \u001b[0mgraph\u001b[0m\u001b[0;34m[\u001b[0m\u001b[0medge_name\u001b[0m\u001b[0;34m]\u001b[0m \u001b[0;34m=\u001b[0m \u001b[0mweight\u001b[0m \u001b[0;34m+\u001b[0m \u001b[0;36m1\u001b[0m\u001b[0;34m\u001b[0m\u001b[0m\n\u001b[1;32m      9\u001b[0m \u001b[0;34m\u001b[0m\u001b[0m\n\u001b[0;32m---> 10\u001b[0;31m \u001b[0mdf\u001b[0m\u001b[0;34m[\u001b[0m\u001b[0;34m\"authors\"\u001b[0m\u001b[0;34m]\u001b[0m\u001b[0;34m.\u001b[0m\u001b[0mapply\u001b[0m\u001b[0;34m(\u001b[0m\u001b[0;32mlambda\u001b[0m \u001b[0mauthors\u001b[0m\u001b[0;34m:\u001b[0m \u001b[0mfill_graph\u001b[0m\u001b[0;34m(\u001b[0m\u001b[0mrow\u001b[0m\u001b[0;34m,\u001b[0m \u001b[0mcitation_dict\u001b[0m\u001b[0;34m)\u001b[0m\u001b[0;34m,\u001b[0m \u001b[0maxis\u001b[0m\u001b[0;34m=\u001b[0m\u001b[0;36m1\u001b[0m\u001b[0;34m)\u001b[0m\u001b[0;34m\u001b[0m\u001b[0m\n\u001b[0m",
      "\u001b[0;32m~/anaconda3/lib/python3.6/site-packages/pandas/core/series.py\u001b[0m in \u001b[0;36mapply\u001b[0;34m(self, func, convert_dtype, args, **kwds)\u001b[0m\n\u001b[1;32m   3846\u001b[0m             \u001b[0;32melse\u001b[0m\u001b[0;34m:\u001b[0m\u001b[0;34m\u001b[0m\u001b[0m\n\u001b[1;32m   3847\u001b[0m                 \u001b[0mvalues\u001b[0m \u001b[0;34m=\u001b[0m \u001b[0mself\u001b[0m\u001b[0;34m.\u001b[0m\u001b[0mastype\u001b[0m\u001b[0;34m(\u001b[0m\u001b[0mobject\u001b[0m\u001b[0;34m)\u001b[0m\u001b[0;34m.\u001b[0m\u001b[0mvalues\u001b[0m\u001b[0;34m\u001b[0m\u001b[0m\n\u001b[0;32m-> 3848\u001b[0;31m                 \u001b[0mmapped\u001b[0m \u001b[0;34m=\u001b[0m \u001b[0mlib\u001b[0m\u001b[0;34m.\u001b[0m\u001b[0mmap_infer\u001b[0m\u001b[0;34m(\u001b[0m\u001b[0mvalues\u001b[0m\u001b[0;34m,\u001b[0m \u001b[0mf\u001b[0m\u001b[0;34m,\u001b[0m \u001b[0mconvert\u001b[0m\u001b[0;34m=\u001b[0m\u001b[0mconvert_dtype\u001b[0m\u001b[0;34m)\u001b[0m\u001b[0;34m\u001b[0m\u001b[0m\n\u001b[0m\u001b[1;32m   3849\u001b[0m \u001b[0;34m\u001b[0m\u001b[0m\n\u001b[1;32m   3850\u001b[0m         \u001b[0;32mif\u001b[0m \u001b[0mlen\u001b[0m\u001b[0;34m(\u001b[0m\u001b[0mmapped\u001b[0m\u001b[0;34m)\u001b[0m \u001b[0;32mand\u001b[0m \u001b[0misinstance\u001b[0m\u001b[0;34m(\u001b[0m\u001b[0mmapped\u001b[0m\u001b[0;34m[\u001b[0m\u001b[0;36m0\u001b[0m\u001b[0;34m]\u001b[0m\u001b[0;34m,\u001b[0m \u001b[0mSeries\u001b[0m\u001b[0;34m)\u001b[0m\u001b[0;34m:\u001b[0m\u001b[0;34m\u001b[0m\u001b[0m\n",
      "\u001b[0;32mpandas/_libs/lib.pyx\u001b[0m in \u001b[0;36mpandas._libs.lib.map_infer\u001b[0;34m()\u001b[0m\n",
      "\u001b[0;32m~/anaconda3/lib/python3.6/site-packages/pandas/core/series.py\u001b[0m in \u001b[0;36mf\u001b[0;34m(x)\u001b[0m\n\u001b[1;32m   3831\u001b[0m \u001b[0;34m\u001b[0m\u001b[0m\n\u001b[1;32m   3832\u001b[0m             \u001b[0;32mdef\u001b[0m \u001b[0mf\u001b[0m\u001b[0;34m(\u001b[0m\u001b[0mx\u001b[0m\u001b[0;34m)\u001b[0m\u001b[0;34m:\u001b[0m\u001b[0;34m\u001b[0m\u001b[0m\n\u001b[0;32m-> 3833\u001b[0;31m                 \u001b[0;32mreturn\u001b[0m \u001b[0mfunc\u001b[0m\u001b[0;34m(\u001b[0m\u001b[0mx\u001b[0m\u001b[0;34m,\u001b[0m \u001b[0;34m*\u001b[0m\u001b[0margs\u001b[0m\u001b[0;34m,\u001b[0m \u001b[0;34m**\u001b[0m\u001b[0mkwds\u001b[0m\u001b[0;34m)\u001b[0m\u001b[0;34m\u001b[0m\u001b[0m\n\u001b[0m\u001b[1;32m   3834\u001b[0m \u001b[0;34m\u001b[0m\u001b[0m\n\u001b[1;32m   3835\u001b[0m         \u001b[0;32melse\u001b[0m\u001b[0;34m:\u001b[0m\u001b[0;34m\u001b[0m\u001b[0m\n",
      "\u001b[0;31mTypeError\u001b[0m: <lambda>() got an unexpected keyword argument 'axis'"
     ]
    }
   ],
   "source": [
    "def get_author_name(row, graph):\n",
    "    authors = list(row[\"authors\"])\n",
    "    references_authors = list(row[\"author_references\"])\n",
    "    for author in list(authors):\n",
    "        for refrence_author in references_authors:\n",
    "            edge_name = str(author[\"index\"]) + \"_\" + str(refrence_author)\n",
    "            weight = graph.get(edge_name, 0)\n",
    "            graph[edge_name] = weight + 1\n",
    "            \n",
    "df[\"authors\"].apply(lambda authors: fill_graph(row, citation_dict), axis=1)"
   ]
  },
  {
   "cell_type": "code",
   "execution_count": 60,
   "metadata": {
    "collapsed": true
   },
   "outputs": [],
   "source": [
    "import json\n",
    "authors_index_to_id = {}\n",
    "with open('authors_index_to_id.json') as json_file:\n",
    "    authors_index_to_id = json.load(json_file)"
   ]
  },
  {
   "cell_type": "code",
   "execution_count": 61,
   "metadata": {
    "collapsed": true
   },
   "outputs": [],
   "source": [
    "authors_id_name_map = {}\n",
    "with open('authors_id__name_map.json') as json_file:\n",
    "    authors_id_name_map = json.load(json_file)\n"
   ]
  },
  {
   "cell_type": "code",
   "execution_count": 62,
   "metadata": {},
   "outputs": [
    {
     "name": "stdout",
     "output_type": "stream",
     "text": [
      "- Wenwu Yu - 186\n",
      "- Wei Ren - 178\n",
      "- Guanrong Chen - 166\n",
      "- Jinde Cao - 153\n",
      "- Guanghui Wen - 144\n",
      "- Long Wang - 143\n",
      "- Gang Feng - 123\n",
      "- Lihua Xie - 116\n",
      "- Frank L. Lewis - 113\n",
      "- Dimos V. Dimarogonas - 93\n",
      "- Huijun Gao - 92\n",
      "- Yiguang Hong - 91\n",
      "- Wei Xing Zheng - 89\n",
      "- Qing-Long Han - 89\n",
      "- Xinghuo Yu - 88\n",
      "- Zidong Wang - 86\n",
      "- Zhisheng Duan - 81\n",
      "- Zhongkui Li - 79\n",
      "- Jie Huang - 77\n",
      "- Karl Henrik Johansson - 76\n"
     ]
    }
   ],
   "source": [
    "for element, count in top_bidirectional_nodes:\n",
    "    name = authors_id_name_map[authors_index_to_id[str(element)]][\"name\"]\n",
    "    print(\"- %s - %d\" % (name, count))"
   ]
  },
  {
   "cell_type": "code",
   "execution_count": 66,
   "metadata": {},
   "outputs": [
    {
     "name": "stdout",
     "output_type": "stream",
     "text": [
      "29457\n"
     ]
    },
    {
     "data": {
      "text/plain": [
       "(265369,\n",
       " [1804,\n",
       "  265369,\n",
       "  3108,\n",
       "  485797,\n",
       "  288809,\n",
       "  364201,\n",
       "  31038,\n",
       "  8126,\n",
       "  755777,\n",
       "  307542,\n",
       "  292830,\n",
       "  89831,\n",
       "  88172,\n",
       "  312565,\n",
       "  73848,\n",
       "  3971,\n",
       "  50567,\n",
       "  50568,\n",
       "  109448,\n",
       "  51212,\n",
       "  395929,\n",
       "  30877,\n",
       "  1060893,\n",
       "  160287,\n",
       "  19615,\n",
       "  22176,\n",
       "  98338,\n",
       "  2778667,\n",
       "  411564,\n",
       "  4270,\n",
       "  55215,\n",
       "  9391,\n",
       "  289585,\n",
       "  289586,\n",
       "  27697,\n",
       "  2313907,\n",
       "  130235,\n",
       "  122044,\n",
       "  41789,\n",
       "  21060,\n",
       "  37319,\n",
       "  222155,\n",
       "  17741,\n",
       "  1268181,\n",
       "  107863,\n",
       "  826590,\n",
       "  2225631,\n",
       "  269791,\n",
       "  269792,\n",
       "  1419242,\n",
       "  32494,\n",
       "  2416503,\n",
       "  126346,\n",
       "  15011,\n",
       "  263076,\n",
       "  17708,\n",
       "  24374,\n",
       "  55877,\n",
       "  1494089,\n",
       "  19023,\n",
       "  271312,\n",
       "  19423,\n",
       "  5120,\n",
       "  12735,\n",
       "  15808,\n",
       "  761040,\n",
       "  244565,\n",
       "  1115997,\n",
       "  1434975,\n",
       "  88307,\n",
       "  51575,\n",
       "  255638,\n",
       "  335129,\n",
       "  924328,\n",
       "  509482,\n",
       "  107697,\n",
       "  270271,\n",
       "  270272,\n",
       "  270273,\n",
       "  888660,\n",
       "  288599,\n",
       "  8154,\n",
       "  336091,\n",
       "  409947,\n",
       "  67951,\n",
       "  33391,\n",
       "  425979,\n",
       "  529413,\n",
       "  358288,\n",
       "  505880,\n",
       "  142621,\n",
       "  16414,\n",
       "  72997,\n",
       "  795313,\n",
       "  22717,\n",
       "  11214,\n",
       "  48338,\n",
       "  681936,\n",
       "  71119,\n",
       "  71118,\n",
       "  22412,\n",
       "  193670,\n",
       "  193671,\n",
       "  252427,\n",
       "  762657,\n",
       "  6317,\n",
       "  14388,\n",
       "  265401,\n",
       "  6773,\n",
       "  69393,\n",
       "  200875,\n",
       "  145579,\n",
       "  25781,\n",
       "  25782,\n",
       "  1161921,\n",
       "  88649,\n",
       "  295626,\n",
       "  295628,\n",
       "  956758,\n",
       "  320472,\n",
       "  280408,\n",
       "  389467,\n",
       "  963567,\n",
       "  305785,\n",
       "  305786,\n",
       "  79227,\n",
       "  2041043,\n",
       "  190850,\n",
       "  1043464,\n",
       "  22410,\n",
       "  64139,\n",
       "  14357,\n",
       "  898589,\n",
       "  78123,\n",
       "  78124,\n",
       "  2449090,\n",
       "  70884,\n",
       "  59145,\n",
       "  563341,\n",
       "  315279,\n",
       "  797457,\n",
       "  904215,\n",
       "  261667,\n",
       "  491560,\n",
       "  143156,\n",
       "  255684,\n",
       "  312147,\n",
       "  69467,\n",
       "  145245,\n",
       "  19552,\n",
       "  65635,\n",
       "  2814704,\n",
       "  1096086,\n",
       "  463299,\n",
       "  30701,\n",
       "  236931,\n",
       "  120224,\n",
       "  305088,\n",
       "  339283,\n",
       "  32287,\n",
       "  19138,\n",
       "  123857,\n",
       "  44039,\n",
       "  66875,\n",
       "  66878,\n",
       "  229442,\n",
       "  423783,\n",
       "  187773,\n",
       "  27012,\n",
       "  2642783,\n",
       "  673039,\n",
       "  1522724,\n",
       "  9015,\n",
       "  587223,\n",
       "  133473,\n",
       "  995349,\n",
       "  781351,\n",
       "  66999])"
      ]
     },
     "execution_count": 66,
     "metadata": {},
     "output_type": "execute_result"
    }
   ],
   "source": [
    "# print(len(sorted_bidirectional_nodes))\n",
    "\n",
    "relations = 0\n",
    "for i in range(0,len(sorted_bidirectional_nodes)):\n",
    "    relations += len(sorted_bidirectional_nodes[i][1])\n",
    "print(relations)\n"
   ]
  },
  {
   "cell_type": "code",
   "execution_count": 128,
   "metadata": {},
   "outputs": [
    {
     "data": {
      "text/plain": [
       "5345"
      ]
     },
     "execution_count": 128,
     "metadata": {},
     "output_type": "execute_result"
    }
   ],
   "source": [
    "set_of_all_birdirectional_authors = set()\n",
    "for auhtor, citated_authors in sorted_bidirectional_nodes:\n",
    "    for citated_author in citated_authors:\n",
    "        author_id = authors_index_to_id[str(citated_author)]\n",
    "        set_of_all_birdirectional_authors.add(str(citated_author))\n",
    "        \n",
    "len(set_of_all_birdirectional_authors)"
   ]
  },
  {
   "cell_type": "code",
   "execution_count": 151,
   "metadata": {},
   "outputs": [],
   "source": [
    "def is_in_bidirectional_set(row):\n",
    "    set_of_row_authors =  set(map(lambda x: str(x[\"index\"]), row[\"authors\"]))\n",
    "    return len(set_of_all_birdirectional_authors & set_of_row_authors) > 0\n",
    "\n",
    "filtered_bidirectional_authors = filtered_slice[filtered_slice.apply(lambda x: is_in_bidirectional_set(x), axis=1)]"
   ]
  },
  {
   "cell_type": "code",
   "execution_count": 152,
   "metadata": {},
   "outputs": [
    {
     "data": {
      "text/html": [
       "<div>\n",
       "<style scoped>\n",
       "    .dataframe tbody tr th:only-of-type {\n",
       "        vertical-align: middle;\n",
       "    }\n",
       "\n",
       "    .dataframe tbody tr th {\n",
       "        vertical-align: top;\n",
       "    }\n",
       "\n",
       "    .dataframe thead th {\n",
       "        text-align: right;\n",
       "    }\n",
       "</style>\n",
       "<table border=\"1\" class=\"dataframe\">\n",
       "  <thead>\n",
       "    <tr style=\"text-align: right;\">\n",
       "      <th></th>\n",
       "      <th>id</th>\n",
       "      <th>title</th>\n",
       "      <th>year</th>\n",
       "      <th>authors</th>\n",
       "      <th>fos</th>\n",
       "      <th>references</th>\n",
       "      <th>author_references</th>\n",
       "    </tr>\n",
       "  </thead>\n",
       "  <tbody>\n",
       "    <tr>\n",
       "      <th>2289</th>\n",
       "      <td>1965895579</td>\n",
       "      <td>Developing pervasive multi-agent systems with ...</td>\n",
       "      <td>2015.0</td>\n",
       "      <td>[{'index': 30244}, {'index': 119883}, {'index'...</td>\n",
       "      <td>[440, 832, 4, 9272, 499, 833, 98, 1040, 3119, ...</td>\n",
       "      <td>[177169120, 198779116, 1458724087, 1487384767,...</td>\n",
       "      <td>[337409, 262660, 262661, 214540, 17422, 218640...</td>\n",
       "    </tr>\n",
       "    <tr>\n",
       "      <th>2324</th>\n",
       "      <td>1965899411</td>\n",
       "      <td>Distributed tracking control of second-order m...</td>\n",
       "      <td>2014.0</td>\n",
       "      <td>[{'index': 2249312}, {'index': 2249312}, {'ind...</td>\n",
       "      <td>[233, 499, 934, 47, 651]</td>\n",
       "      <td>[1981685742, 1982439975, 2007403280, 202665649...</td>\n",
       "      <td>[27013, 849158, 193670, 888710, 50568, 193671,...</td>\n",
       "    </tr>\n",
       "    <tr>\n",
       "      <th>2707</th>\n",
       "      <td>1965939249</td>\n",
       "      <td>Consensus tracking of linear multi-agent syste...</td>\n",
       "      <td>2014.0</td>\n",
       "      <td>[{'index': 2249570}, {'index': 269792}, {'inde...</td>\n",
       "      <td>[1851, 2967, 233, 47, 543, 499, 98, 484]</td>\n",
       "      <td>[1904869745, 1973963158, 1977418125, 198465187...</td>\n",
       "      <td>[823040, 3971, 40710, 193671, 267655, 2496519,...</td>\n",
       "    </tr>\n",
       "    <tr>\n",
       "      <th>4343</th>\n",
       "      <td>1966107190</td>\n",
       "      <td>A situation-aware system for the detection of ...</td>\n",
       "      <td>2014.0</td>\n",
       "      <td>[{'index': 25561}, {'index': 378331}, {'index'...</td>\n",
       "      <td>[104, 28092, 132, 13562, 1048, 36868, 6919, 4]</td>\n",
       "      <td>[130306558, 1655636376, 1974588631, 1979504468...</td>\n",
       "      <td>[35848, 122248, 118672, 87443, 169620, 55321, ...</td>\n",
       "    </tr>\n",
       "    <tr>\n",
       "      <th>5243</th>\n",
       "      <td>1966197446</td>\n",
       "      <td>An operational semantics for the goal life-cyc...</td>\n",
       "      <td>2014.0</td>\n",
       "      <td>[{'index': 183629}, {'index': 484974}, {'index...</td>\n",
       "      <td>[4, 2, 103, 373, 355, 173, 1048, 3015]</td>\n",
       "      <td>[198400421, 1488758641, 1500989946, 1501700777...</td>\n",
       "      <td>[106884, 910076, 106886, 128647, 669829, 18471...</td>\n",
       "    </tr>\n",
       "    <tr>\n",
       "      <th>...</th>\n",
       "      <td>...</td>\n",
       "      <td>...</td>\n",
       "      <td>...</td>\n",
       "      <td>...</td>\n",
       "      <td>...</td>\n",
       "      <td>...</td>\n",
       "      <td>...</td>\n",
       "    </tr>\n",
       "    <tr>\n",
       "      <th>4070876</th>\n",
       "      <td>2026434208</td>\n",
       "      <td>Continuum evolution of multi agent systems und...</td>\n",
       "      <td>2014.0</td>\n",
       "      <td>[{'index': 111395}, {'index': 850862}]</td>\n",
       "      <td>[233, 849, 90, 3486, 392, 4, 1141, 499, 96]</td>\n",
       "      <td>[1482619501, 2041951223, 2070224219, 210801176...</td>\n",
       "      <td>[111395, 1203015, 866440, 850862, 50254, 13029...</td>\n",
       "    </tr>\n",
       "    <tr>\n",
       "      <th>4071408</th>\n",
       "      <td>2026485182</td>\n",
       "      <td>Passing a Hide-and-Seek Third-Person Turing Test</td>\n",
       "      <td>2014.0</td>\n",
       "      <td>[{'index': 871808}, {'index': 169007}, {'index...</td>\n",
       "      <td>[27, 13019, 132, 4, 1287, 499, 286, 104]</td>\n",
       "      <td>[96574868, 1867465928, 1968909098, 1969483458,...</td>\n",
       "      <td>[871808, 871809, 3424003, 993286, 69650, 13003...</td>\n",
       "    </tr>\n",
       "    <tr>\n",
       "      <th>4071469</th>\n",
       "      <td>2026489587</td>\n",
       "      <td>Sliding mode control for multi-agent systems u...</td>\n",
       "      <td>2016.0</td>\n",
       "      <td>[{'index': 871882}, {'index': 871883}, {'index...</td>\n",
       "      <td>[7099, 233, 42, 931, 590, 1090, 47, 499, 396, ...</td>\n",
       "      <td>[1982617281, 1988372689, 2012562254, 204431900...</td>\n",
       "      <td>[3414152, 22410, 22412, 995349, 22174, 998816,...</td>\n",
       "    </tr>\n",
       "    <tr>\n",
       "      <th>4073184</th>\n",
       "      <td>2026654865</td>\n",
       "      <td>Algorithmic Renormalization for Network Dynamics</td>\n",
       "      <td>2015.0</td>\n",
       "      <td>[{'index': 249078}]</td>\n",
       "      <td>[110, 91, 42, 15541, 729, 543, 88, 499, 11926,...</td>\n",
       "      <td>[1756760847, 1910515323, 1997672043, 202142992...</td>\n",
       "      <td>[27012, 27013, 76937, 849933, 25234, 124564, 7...</td>\n",
       "    </tr>\n",
       "    <tr>\n",
       "      <th>4073662</th>\n",
       "      <td>2026701147</td>\n",
       "      <td>Quantised consensus of multi-agent systems wit...</td>\n",
       "      <td>2015.0</td>\n",
       "      <td>[{'index': 296652}, {'index': 296651}, {'index...</td>\n",
       "      <td>[42, 1088, 233, 12669, 396, 47, 499, 935]</td>\n",
       "      <td>[1982947074, 1991360560, 1996032233, 199910691...</td>\n",
       "      <td>[454273, 2496519, 50568, 44039, 1104010, 37004...</td>\n",
       "    </tr>\n",
       "  </tbody>\n",
       "</table>\n",
       "<p>4717 rows × 7 columns</p>\n",
       "</div>"
      ],
      "text/plain": [
       "                 id                                              title  \\\n",
       "2289     1965895579  Developing pervasive multi-agent systems with ...   \n",
       "2324     1965899411  Distributed tracking control of second-order m...   \n",
       "2707     1965939249  Consensus tracking of linear multi-agent syste...   \n",
       "4343     1966107190  A situation-aware system for the detection of ...   \n",
       "5243     1966197446  An operational semantics for the goal life-cyc...   \n",
       "...             ...                                                ...   \n",
       "4070876  2026434208  Continuum evolution of multi agent systems und...   \n",
       "4071408  2026485182   Passing a Hide-and-Seek Third-Person Turing Test   \n",
       "4071469  2026489587  Sliding mode control for multi-agent systems u...   \n",
       "4073184  2026654865   Algorithmic Renormalization for Network Dynamics   \n",
       "4073662  2026701147  Quantised consensus of multi-agent systems wit...   \n",
       "\n",
       "           year                                            authors  \\\n",
       "2289     2015.0  [{'index': 30244}, {'index': 119883}, {'index'...   \n",
       "2324     2014.0  [{'index': 2249312}, {'index': 2249312}, {'ind...   \n",
       "2707     2014.0  [{'index': 2249570}, {'index': 269792}, {'inde...   \n",
       "4343     2014.0  [{'index': 25561}, {'index': 378331}, {'index'...   \n",
       "5243     2014.0  [{'index': 183629}, {'index': 484974}, {'index...   \n",
       "...         ...                                                ...   \n",
       "4070876  2014.0             [{'index': 111395}, {'index': 850862}]   \n",
       "4071408  2014.0  [{'index': 871808}, {'index': 169007}, {'index...   \n",
       "4071469  2016.0  [{'index': 871882}, {'index': 871883}, {'index...   \n",
       "4073184  2015.0                                [{'index': 249078}]   \n",
       "4073662  2015.0  [{'index': 296652}, {'index': 296651}, {'index...   \n",
       "\n",
       "                                                       fos  \\\n",
       "2289     [440, 832, 4, 9272, 499, 833, 98, 1040, 3119, ...   \n",
       "2324                              [233, 499, 934, 47, 651]   \n",
       "2707              [1851, 2967, 233, 47, 543, 499, 98, 484]   \n",
       "4343        [104, 28092, 132, 13562, 1048, 36868, 6919, 4]   \n",
       "5243                [4, 2, 103, 373, 355, 173, 1048, 3015]   \n",
       "...                                                    ...   \n",
       "4070876        [233, 849, 90, 3486, 392, 4, 1141, 499, 96]   \n",
       "4071408           [27, 13019, 132, 4, 1287, 499, 286, 104]   \n",
       "4071469  [7099, 233, 42, 931, 590, 1090, 47, 499, 396, ...   \n",
       "4073184  [110, 91, 42, 15541, 729, 543, 88, 499, 11926,...   \n",
       "4073662          [42, 1088, 233, 12669, 396, 47, 499, 935]   \n",
       "\n",
       "                                                references  \\\n",
       "2289     [177169120, 198779116, 1458724087, 1487384767,...   \n",
       "2324     [1981685742, 1982439975, 2007403280, 202665649...   \n",
       "2707     [1904869745, 1973963158, 1977418125, 198465187...   \n",
       "4343     [130306558, 1655636376, 1974588631, 1979504468...   \n",
       "5243     [198400421, 1488758641, 1500989946, 1501700777...   \n",
       "...                                                    ...   \n",
       "4070876  [1482619501, 2041951223, 2070224219, 210801176...   \n",
       "4071408  [96574868, 1867465928, 1968909098, 1969483458,...   \n",
       "4071469  [1982617281, 1988372689, 2012562254, 204431900...   \n",
       "4073184  [1756760847, 1910515323, 1997672043, 202142992...   \n",
       "4073662  [1982947074, 1991360560, 1996032233, 199910691...   \n",
       "\n",
       "                                         author_references  \n",
       "2289     [337409, 262660, 262661, 214540, 17422, 218640...  \n",
       "2324     [27013, 849158, 193670, 888710, 50568, 193671,...  \n",
       "2707     [823040, 3971, 40710, 193671, 267655, 2496519,...  \n",
       "4343     [35848, 122248, 118672, 87443, 169620, 55321, ...  \n",
       "5243     [106884, 910076, 106886, 128647, 669829, 18471...  \n",
       "...                                                    ...  \n",
       "4070876  [111395, 1203015, 866440, 850862, 50254, 13029...  \n",
       "4071408  [871808, 871809, 3424003, 993286, 69650, 13003...  \n",
       "4071469  [3414152, 22410, 22412, 995349, 22174, 998816,...  \n",
       "4073184  [27012, 27013, 76937, 849933, 25234, 124564, 7...  \n",
       "4073662  [454273, 2496519, 50568, 44039, 1104010, 37004...  \n",
       "\n",
       "[4717 rows x 7 columns]"
      ]
     },
     "execution_count": 152,
     "metadata": {},
     "output_type": "execute_result"
    }
   ],
   "source": [
    "filtered_bidirectional_authors"
   ]
  },
  {
   "cell_type": "code",
   "execution_count": 161,
   "metadata": {},
   "outputs": [],
   "source": [
    "def are_self_citated(row):\n",
    "    paper_id = row[\"id\"]\n",
    "    references_list = row[\"references\"]\n",
    "    \n",
    "    if not isinstance(references_list, list) and pandas.isna(references_list):\n",
    "        return False\n",
    "    if pandas.isna(paper_id):\n",
    "        return False\n",
    "\n",
    "    for reference_id in references_list:\n",
    "        references_of_reference = list(df.loc[df[\"id\"] == int(reference_id)][\"references\"])\n",
    "        if paper_id in references_of_reference:\n",
    "            return True\n",
    "    return False"
   ]
  },
  {
   "cell_type": "code",
   "execution_count": 162,
   "metadata": {},
   "outputs": [
    {
     "data": {
      "text/html": [
       "<div>\n",
       "<style scoped>\n",
       "    .dataframe tbody tr th:only-of-type {\n",
       "        vertical-align: middle;\n",
       "    }\n",
       "\n",
       "    .dataframe tbody tr th {\n",
       "        vertical-align: top;\n",
       "    }\n",
       "\n",
       "    .dataframe thead th {\n",
       "        text-align: right;\n",
       "    }\n",
       "</style>\n",
       "<table border=\"1\" class=\"dataframe\">\n",
       "  <thead>\n",
       "    <tr style=\"text-align: right;\">\n",
       "      <th></th>\n",
       "      <th>id</th>\n",
       "      <th>title</th>\n",
       "      <th>year</th>\n",
       "      <th>authors</th>\n",
       "      <th>fos</th>\n",
       "      <th>references</th>\n",
       "      <th>author_references</th>\n",
       "    </tr>\n",
       "  </thead>\n",
       "  <tbody>\n",
       "  </tbody>\n",
       "</table>\n",
       "</div>"
      ],
      "text/plain": [
       "Empty DataFrame\n",
       "Columns: [id, title, year, authors, fos, references, author_references]\n",
       "Index: []"
      ]
     },
     "execution_count": 162,
     "metadata": {},
     "output_type": "execute_result"
    }
   ],
   "source": [
    "filtered_bidirectional_authors[filtered_bidirectional_authors.apply(lambda x: are_self_citated(x),axis=1)]"
   ]
  },
  {
   "cell_type": "code",
   "execution_count": 210,
   "metadata": {},
   "outputs": [],
   "source": [
    "def create_graph(citation_dict):\n",
    "    citation_graph = networkx.DiGraph()\n",
    "    for edge in citation_dict.keys():\n",
    "        nodes = edge.split(\"_\")\n",
    "        node_x = int(nodes[0])\n",
    "        node_y = int(nodes[1])\n",
    "        weight = int(citation_dict[edge])\n",
    "        citation_graph.add_edge(node_x, node_y, weight = weight)\n",
    "    return citation_graph\n",
    "\n",
    "def get_bidirectional_graph_for_year(year):\n",
    "    publications_filtered_by_year = filtered_bidirectional_authors.loc[filtered_bidirectional_authors[\"year\"].astype(int) == year]\n",
    "    publications_filtered_by_year = publications_filtered_by_year[publications_filtered_by_year.apply(lambda x: filter_refrences(x), axis=1)]\n",
    "    \n",
    "    citation_dict = {}\n",
    "    publications_filtered_by_year.apply(lambda row: fill_graph(row, citation_dict), axis=1)\n",
    "    return create_graph(citation_dict)"
   ]
  },
  {
   "cell_type": "code",
   "execution_count": 211,
   "metadata": {},
   "outputs": [],
   "source": [
    "def filter_refrences(row):\n",
    "    references_list = row[\"references\"]\n",
    "    if not isinstance(references_list, list) and pandas.isna(references_list):\n",
    "        return False\n",
    "    if len(references_list) < 5:\n",
    "        return True\n",
    "    return False"
   ]
  },
  {
   "cell_type": "code",
   "execution_count": 212,
   "metadata": {},
   "outputs": [
    {
     "data": {
      "text/plain": [
       "1004"
      ]
     },
     "execution_count": 212,
     "metadata": {},
     "output_type": "execute_result"
    }
   ],
   "source": [
    "len(get_bidirectional_graph_for_year(2014))"
   ]
  },
  {
   "cell_type": "code",
   "execution_count": 213,
   "metadata": {},
   "outputs": [
    {
     "data": {
      "text/plain": [
       "628"
      ]
     },
     "execution_count": 213,
     "metadata": {},
     "output_type": "execute_result"
    }
   ],
   "source": [
    "len(get_bidirectional_graph_for_year(2017))"
   ]
  },
  {
   "cell_type": "code",
   "execution_count": 216,
   "metadata": {
    "collapsed": true
   },
   "outputs": [],
   "source": [
    "graph_up_to_current_year = networkx.Graph()\n",
    "edges_up_to_previous_year = []\n",
    "import matplotlib.pyplot as plt\n",
    "%matplotlib inline\n",
    "\n",
    "amount_of_top_elements_per_year = 20"
   ]
  },
  {
   "cell_type": "code",
   "execution_count": 218,
   "metadata": {},
   "outputs": [
    {
     "data": {
      "image/png": "[encoded data removed]",
      "text/plain": [
       "<Figure size 432x288 with 1 Axes>"
      ]
     },
     "metadata": {},
     "output_type": "display_data"
    }
   ],
   "source": [
    "current_year_graph = get_bidirectional_graph_for_year(2015)\n",
    "filtered_current_year_graph = current_year_graph.copy()\n",
    "\n",
    "edges_to_draw = edges_up_to_previous_year + list(filtered_current_year_graph.edges)\n",
    "edges_up_to_previous_year = edges_to_draw\n",
    "\n",
    "networkx.draw_spring(filtered_current_year_graph, edgelist=edges_to_draw)"
   ]
  },
  {
   "cell_type": "code",
   "execution_count": 234,
   "metadata": {},
   "outputs": [],
   "source": [
    "def get_top_bidiriectional_nodes(graph, n):\n",
    "    bidirectional_nodes = get_bidirectional_nodes(graph)\n",
    "    sorted_bidirectional_nodes = [(k,v) for k, v in sorted(bidirectional_nodes.items(), key=lambda item: len(item[1]), reverse=True)]\n",
    "    top_bidirectional_nodes = []\n",
    "    for element, bidirectional_neighbors in sorted_bidirectional_nodes[:n]:\n",
    "        top_bidirectional_nodes.append((element, bidirectional_neighbors))\n",
    "    return dict(top_bidirectional_nodes)"
   ]
  },
  {
   "cell_type": "code",
   "execution_count": 246,
   "metadata": {},
   "outputs": [],
   "source": [
    "citation_dict = get_top_bidiriectional_nodes(get_bidirectional_graph_for_year(2014), 50)"
   ]
  },
  {
   "cell_type": "code",
   "execution_count": 247,
   "metadata": {
    "collapsed": true
   },
   "outputs": [],
   "source": [
    "def create_filtered_graph(top_nodes):\n",
    "    citation_dict = {}\n",
    "    for author in top_nodes.keys():\n",
    "        for reference_author in top_nodes[author]:\n",
    "            edge_name = str(author) + \"_\" + str(reference_author)\n",
    "            weight = citation_dict.get(edge_name, 0)\n",
    "            citation_dict[edge_name] = weight + 1\n",
    "            \n",
    "    citation_graph = networkx.DiGraph()\n",
    "    for edge in citation_dict.keys():\n",
    "        nodes = edge.split(\"_\")\n",
    "        node_x = int(nodes[0])\n",
    "        node_y = int(nodes[1])\n",
    "        weight = int(citation_dict[edge])\n",
    "        citation_graph.add_edge(node_x, node_y, weight = weight)\n",
    "    return citation_graph"
   ]
  },
  {
   "cell_type": "code",
   "execution_count": 269,
   "metadata": {
    "collapsed": true
   },
   "outputs": [],
   "source": [
    "def combine_top_nodes(dict1, dict2):\n",
    "    new_dict = {}\n",
    "    if len(dict1.keys()) == 0:\n",
    "        return dict2\n",
    "    if len(dict2.keys()) == 0:\n",
    "        return dict1\n",
    "    \n",
    "    for author in dict2.keys():\n",
    "        if dict1.get(author, None) == None:\n",
    "            new_dict[author] = dict2[author]\n",
    "        else:\n",
    "            new_dict[author] = dict1[author] + dict2[author]\n",
    "    return new_dict"
   ]
  },
  {
   "cell_type": "code",
   "execution_count": 295,
   "metadata": {},
   "outputs": [
    {
     "data": {
      "text/plain": [
       "Text(0.5, 1.0, 'Dynamics of transforming top bidirectional citation group, 2014')"
      ]
     },
     "execution_count": 295,
     "metadata": {},
     "output_type": "execute_result"
    },
    {
     "data": {
      "image/png": "[encoded data removed]",
      "text/plain": [
       "<Figure size 432x288 with 1 Axes>"
      ]
     },
     "metadata": {},
     "output_type": "display_data"
    }
   ],
   "source": [
    "n = 1000\n",
    "all_nodes = {}\n",
    "\n",
    "current_year_nodes = get_top_bidiriectional_nodes(get_bidirectional_graph_for_year(2014), n)\n",
    "nodes_to_show = combine_top_nodes(all_nodes, current_year_nodes)\n",
    "graph = create_filtered_graph(nodes_to_show)\n",
    "networkx.draw_spring(graph, edgelist=graph.edges, node_size=10)\n",
    "all_nodes = nodes_to_show\n",
    "\n",
    "plt.title(\"Dynamics of transforming top bidirectional citation group, 2014\")"
   ]
  },
  {
   "cell_type": "code",
   "execution_count": 296,
   "metadata": {},
   "outputs": [
    {
     "data": {
      "text/plain": [
       "Text(0.5, 1.0, 'Dynamics of transforming top bidirectional citation group, 2015')"
      ]
     },
     "execution_count": 296,
     "metadata": {},
     "output_type": "execute_result"
    },
    {
     "data": {
      "image/png": "[encoded data removed]",
      "text/plain": [
       "<Figure size 432x288 with 1 Axes>"
      ]
     },
     "metadata": {},
     "output_type": "display_data"
    }
   ],
   "source": [
    "current_year_nodes = get_top_bidiriectional_nodes(get_bidirectional_graph_for_year(2015), n)\n",
    "nodes_to_show = combine_top_nodes(all_nodes, current_year_nodes)\n",
    "graph = create_filtered_graph(nodes_to_show)\n",
    "networkx.draw_spring(graph, edgelist=graph.edges, node_size=10)\n",
    "all_nodes = nodes_to_show\n",
    "plt.title(\"Dynamics of transforming top bidirectional citation group, 2015\")"
   ]
  },
  {
   "cell_type": "code",
   "execution_count": 297,
   "metadata": {},
   "outputs": [
    {
     "data": {
      "text/plain": [
       "Text(0.5, 1.0, 'Dynamics of transforming top bidirectional citation group, 2016')"
      ]
     },
     "execution_count": 297,
     "metadata": {},
     "output_type": "execute_result"
    },
    {
     "data": {
      "image/png": "[encoded data removed]",
      "text/plain": [
       "<Figure size 432x288 with 1 Axes>"
      ]
     },
     "metadata": {},
     "output_type": "display_data"
    }
   ],
   "source": [
    "current_year_nodes = get_top_bidiriectional_nodes(get_bidirectional_graph_for_year(2016), n)\n",
    "nodes_to_show = combine_top_nodes(all_nodes, current_year_nodes)\n",
    "graph = create_filtered_graph(nodes_to_show)\n",
    "networkx.draw_spring(graph, edgelist=graph.edges, node_size=10)\n",
    "all_nodes = nodes_to_show\n",
    "\n",
    "plt.title(\"Dynamics of transforming top bidirectional citation group, 2016\")"
   ]
  },
  {
   "cell_type": "code",
   "execution_count": 298,
   "metadata": {},
   "outputs": [
    {
     "data": {
      "text/plain": [
       "Text(0.5, 1.0, 'Dynamics of transforming top bidirectional citation group, 2017')"
      ]
     },
     "execution_count": 298,
     "metadata": {},
     "output_type": "execute_result"
    },
    {
     "data": {
      "image/png": "[encoded data removed]",
      "text/plain": [
       "<Figure size 432x288 with 1 Axes>"
      ]
     },
     "metadata": {},
     "output_type": "display_data"
    }
   ],
   "source": [
    "current_year_nodes = get_top_bidiriectional_nodes(get_bidirectional_graph_for_year(2017), n)\n",
    "nodes_to_show = combine_top_nodes(all_nodes, current_year_nodes)\n",
    "graph = create_filtered_graph(nodes_to_show)\n",
    "networkx.draw_spring(graph, edgelist=graph.edges, node_size=10)\n",
    "all_nodes = nodes_to_show\n",
    "\n",
    "plt.title(\"Dynamics of transforming top bidirectional citation group, 2017\")"
   ]
  },
  {
   "cell_type": "code",
   "execution_count": 294,
   "metadata": {},
   "outputs": [
    {
     "data": {
      "text/plain": [
       "Text(0.5, 1.0, 'Dynamics of transforming top bidirectional citation group, 2018')"
      ]
     },
     "execution_count": 294,
     "metadata": {},
     "output_type": "execute_result"
    },
    {
     "data": {
      "image/png": "[encoded data removed]",
      "text/plain": [
       "<Figure size 432x288 with 1 Axes>"
      ]
     },
     "metadata": {},
     "output_type": "display_data"
    }
   ],
   "source": [
    "current_year_nodes = get_top_bidiriectional_nodes(get_bidirectional_graph_for_year(2018), n)\n",
    "nodes_to_show = combine_top_nodes(all_nodes, current_year_nodes)\n",
    "graph = create_filtered_graph(nodes_to_show)\n",
    "networkx.draw_spring(graph, edgelist=graph.edges, node_size=20)\n",
    "all_nodes = nodes_to_show\n",
    "\n",
    "plt.title(\"Dynamics of transforming top bidirectional citation group, 2018\")"
   ]
  },
  {
   "cell_type": "code",
   "execution_count": null,
   "metadata": {
    "collapsed": true
   },
   "outputs": [],
   "source": []
  }
 ],
 "metadata": {
  "kernelspec": {
   "display_name": "Python 3",
   "language": "python",
   "name": "python3"
  },
  "language_info": {
   "codemirror_mode": {
    "name": "ipython",
    "version": 3
   },
   "file_extension": ".py",
   "mimetype": "text/x-python",
   "name": "python",
   "nbconvert_exporter": "python",
   "pygments_lexer": "ipython3",
   "version": "3.6.2"
  }
 },
 "nbformat": 4,
 "nbformat_minor": 2
}
